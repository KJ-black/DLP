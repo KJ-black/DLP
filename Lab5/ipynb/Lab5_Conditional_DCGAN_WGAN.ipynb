{
 "cells": [
  {
   "cell_type": "code",
   "execution_count": 1,
   "metadata": {},
   "outputs": [
    {
     "name": "stdout",
     "output_type": "stream",
     "text": [
      "Using cuda device\n"
     ]
    }
   ],
   "source": [
    "\"\"\"\n",
    "1. remove sigmoid\n",
    "2. Adam -> SGD or RMSprop\n",
    "3. No Log in loss\n",
    "4. clip param for discriminator\n",
    "\"\"\"\n",
    "\n",
    "\n",
    "from dataset import *\n",
    "from evaluator import *\n",
    "from torch.utils.data import DataLoader\n",
    "\n",
    "import torch\n",
    "import torch.nn.functional as F\n",
    "import torch.nn as nn\n",
    "from torch.autograd import Variable\n",
    "\n",
    "from torchvision.utils import save_image, make_grid\n",
    "\n",
    "import matplotlib.pyplot as plt\n",
    "\n",
    "import tqdm\n",
    "\n",
    "device = 'cuda' if torch.cuda.is_available() else 'cpu'\n",
    "print('Using {} device'.format(device))"
   ]
  },
  {
   "cell_type": "code",
   "execution_count": 2,
   "metadata": {
    "scrolled": false
   },
   "outputs": [
    {
     "name": "stdout",
     "output_type": "stream",
     "text": [
      "> Found 18009 images...\n",
      "> Found 32 label...\n"
     ]
    }
   ],
   "source": [
    "image_size = 64\n",
    "\n",
    "trans = transforms.Compose([transforms.ToPILImage(),\n",
    "                            transforms.Resize([image_size, image_size]),\n",
    "                            transforms.CenterCrop([image_size, image_size]),\n",
    "                            transforms.ToTensor(),\n",
    "                            transforms.Normalize((0.5, 0.5, 0.5, 0.5), (0.5, 0.5, 0.5, 0.5)), # normalize to [-1, 1] for the last layer of generator is tanh()\n",
    "                            ])\n",
    "\n",
    "# preprocessing size -> 64x64\n",
    "train = ICLEVRLoader(\"./\", trans=trans, mode=\"train\", preprocessing=None)\n",
    "test = ICLEVRLoader(\"./\", mode=\"test\")\n",
    "\n",
    "batch_size = 64 # based on paper of WGAN\n",
    "train_loader = DataLoader(\n",
    "    dataset=train, \n",
    "    batch_size=batch_size,\n",
    "    shuffle = True,\n",
    "    num_workers = 8\n",
    ")\n",
    "\n",
    "# [C, H, W] == [3, 512, 512]\n",
    "test_loader = DataLoader(\n",
    "    dataset=test,\n",
    "    batch_size=batch_size,\n",
    "    num_workers = 8\n",
    ")"
   ]
  },
  {
   "cell_type": "code",
   "execution_count": 3,
   "metadata": {},
   "outputs": [],
   "source": [
    "class Generator(nn.Module):\n",
    "    def __init__(self, n_classes, latent_dim, img_shape, n_channels):\n",
    "        super(Generator, self).__init__()\n",
    "        \n",
    "        self.n_classes = n_classes\n",
    "        self.label_emb = nn.Embedding(n_classes, n_classes)\n",
    "        self.input_cnn = nn.Linear(n_classes+latent_dim, 128)\n",
    "        \n",
    "        self.main = nn.Sequential(\n",
    "            # input is Z, going into a convolution\n",
    "#             nn.ConvTranspose2d( img_shape, img_shape*8 , 4, 1, 0, bias=False), #input shape [batch_size, 64, 1, 1]\n",
    "            nn.ConvTranspose2d( 128, img_shape*8 , 4, 1, 0, bias=False), # input shape [batch_size, 64, 2, 2]\n",
    "            nn.BatchNorm2d(img_shape*8),\n",
    "            nn.ReLU(True),\n",
    "            # state size. (img_shape*8) x 4 x 4\n",
    "            nn.ConvTranspose2d(img_shape * 8, img_shape * 4, 4, 2, 1, bias=False),\n",
    "            nn.BatchNorm2d(img_shape * 4),\n",
    "            nn.ReLU(True),\n",
    "            # state size. (img_shape*4) x 8 x 8\n",
    "            nn.ConvTranspose2d( img_shape * 4, img_shape * 2, 4, 2, 1, bias=False),\n",
    "            nn.BatchNorm2d(img_shape * 2),\n",
    "            nn.ReLU(True),\n",
    "            # state size. (img_shape*2) x 16 x 16\n",
    "            nn.ConvTranspose2d( img_shape * 2, img_shape, 4, 2, 1, bias=False),\n",
    "            nn.BatchNorm2d(img_shape),\n",
    "            nn.ReLU(True),\n",
    "            # state size. (img_shape) x 32 x 32\n",
    "            nn.ConvTranspose2d( img_shape, n_channels, 4, 2, 1, bias=False),\n",
    "            nn.Tanh()\n",
    "            # state size. (n_channels) x 64 x 64\n",
    "        )\n",
    "\n",
    "    def forward(self, noise, labels):\n",
    "        gen_input = torch.cat((labels, noise), -1).float()\n",
    "        gen_input = self.input_cnn(gen_input).view(batch_size, 128, 1, 1)\n",
    "        img = self.main(gen_input)\n",
    "        return img\n",
    "\n",
    "\n",
    "class Discriminator(nn.Module):\n",
    "    def __init__(self, n_classes, img_shape):\n",
    "        super(Discriminator, self).__init__()\n",
    "        self.n_classes = n_classes\n",
    "        self.img_shape= img_shape\n",
    "        self.label_embedding = nn.Embedding(n_classes, n_classes)\n",
    "        \n",
    "        self.label_linear = nn.Linear(n_classes, img_shape*img_shape)        \n",
    "        \n",
    "        self.main = nn.Sequential(\n",
    "            # input is (n_classes) x 64 x 64\n",
    "            nn.Conv2d(4, img_shape, 4, 2, 1, bias=False),\n",
    "            nn.LeakyReLU(0.2, inplace=True),\n",
    "            # state size. (img_shape) x 32 x 32\n",
    "            nn.Conv2d(img_shape, img_shape * 2, 4, 2, 1, bias=False),\n",
    "            nn.BatchNorm2d(img_shape * 2),\n",
    "            nn.LeakyReLU(0.2, inplace=True),\n",
    "            # state size. (img_shape*2) x 16 x 16\n",
    "            nn.Conv2d(img_shape * 2, img_shape * 4, 4, 2, 1, bias=False),\n",
    "            nn.BatchNorm2d(img_shape * 4),\n",
    "            nn.LeakyReLU(0.2, inplace=True),\n",
    "            # state size. (img_shape*4) x 8 x 8\n",
    "            nn.Conv2d(img_shape * 4, img_shape * 8, 4, 2, 1, bias=False),\n",
    "            nn.BatchNorm2d(img_shape * 8),\n",
    "            nn.LeakyReLU(0.2, inplace=True),\n",
    "            # state size. (img_shape*8) x 4 x 4\n",
    "            nn.Conv2d(img_shape * 8, 1, 4, 1, 0, bias=False),\n",
    "#             nn.Sigmoid() # remove due to WGAN\n",
    "        )\n",
    "\n",
    "    def forward(self, img, labels):\n",
    "        # Concatenate label embedding and image to produce input\n",
    "        labels = self.label_linear(labels.float()).view(-1, 1, self.img_shape, self.img_shape)\n",
    "        d_in = torch.cat((img, labels), 1)\n",
    "        validity = self.main(d_in).view(-1, 1)\n",
    "\n",
    "        return validity"
   ]
  },
  {
   "cell_type": "code",
   "execution_count": 4,
   "metadata": {},
   "outputs": [],
   "source": [
    "# custom weights initialization called on netG and netD\n",
    "def weights_init(m):\n",
    "    classname = m.__class__.__name__\n",
    "    if classname.find('Conv') != -1:\n",
    "        nn.init.normal_(m.weight.data, 0.0, 0.02)\n",
    "    elif classname.find('BatchNorm') != -1:\n",
    "        nn.init.normal_(m.weight.data, 1.0, 0.02)\n",
    "        nn.init.constant_(m.bias.data, 0)\n",
    "\n",
    "# loss function\n",
    "# adversarial_loss = torch.nn.BCELoss()\n",
    "\n",
    "# model \n",
    "n_classes = 24\n",
    "latent_dim = 100\n",
    "img_shape = 64\n",
    "n_channels = 3\n",
    "clip_value = 0.01 # based on paper\n",
    "generator = Generator(n_classes, latent_dim, img_shape, n_channels).to(device)\n",
    "discriminator = Discriminator(n_classes, img_shape).to(device)\n",
    "\n",
    "generator.apply(weights_init)\n",
    "discriminator.apply(weights_init)\n",
    "\n",
    "# optimizer \n",
    "lr = 0.00005 # based on paper\n",
    "optimizer_G = torch.optim.RMSprop(generator.parameters(), lr=lr)\n",
    "optimizer_D = torch.optim.RMSprop(discriminator.parameters(), lr=lr)"
   ]
  },
  {
   "cell_type": "code",
   "execution_count": 5,
   "metadata": {},
   "outputs": [],
   "source": [
    "def save_acc(g_loss, d_loss):\n",
    "    try:\n",
    "        acc = np.load(\"loss.npz\")\n",
    "        np_g_loss = acc['g_loss']\n",
    "        np_d_loss = acc['d_loss']\n",
    "        np_g_loss = np.append(np_g_loss, g_loss)\n",
    "        np_d_loss = np.append(np_d_loss, d_loss)\n",
    "        np.savez('loss.npz', g_loss=np_g_loss, d_loss=np_d_loss)\n",
    "    except:\n",
    "        g_loss = np.array(g_loss)\n",
    "        d_loss = np.array(d_loss)\n",
    "        np.savez('loss.npz', g_loss=g_loss, d_loss=d_loss)"
   ]
  },
  {
   "cell_type": "code",
   "execution_count": 6,
   "metadata": {},
   "outputs": [
    {
     "data": {
      "application/vnd.jupyter.widget-view+json": {
       "model_id": "9f8c2275ebaa47d6af32b8b1009a1aa8",
       "version_major": 2,
       "version_minor": 0
      },
      "text/plain": [
       "HBox(children=(FloatProgress(value=0.0, max=10.0), HTML(value='')))"
      ]
     },
     "metadata": {},
     "output_type": "display_data"
    },
    {
     "name": "stdout",
     "output_type": "stream",
     "text": [
      "[Epoch 1/10] [D loss: -1.116792] [G loss: 0.568795]\n",
      "[Epoch 2/10] [D loss: -1.574914] [G loss: 0.781085]\n",
      "[Epoch 3/10] [D loss: -1.582996] [G loss: 0.783871]\n",
      "[Epoch 4/10] [D loss: -1.585059] [G loss: 0.784520]\n",
      "[Epoch 5/10] [D loss: -1.585817] [G loss: 0.784902]\n",
      "[Epoch 6/10] [D loss: -1.586575] [G loss: 0.785279]\n",
      "[Epoch 7/10] [D loss: -1.587044] [G loss: 0.785402]\n",
      "[Epoch 8/10] [D loss: -1.587451] [G loss: 0.785602]\n",
      "[Epoch 9/10] [D loss: -1.587784] [G loss: 0.785729]\n",
      "[Epoch 10/10] [D loss: -1.587964] [G loss: 0.785872]\n",
      "\n",
      "Saving model weight...\n",
      "Save Done!\n"
     ]
    }
   ],
   "source": [
    "# training \n",
    "epochs = 10\n",
    "n_critic = 5 # number of training steps for discriminator per iter\n",
    "save = True\n",
    "FloatTensor = torch.FloatTensor\n",
    "LongTensor = torch.LongTensor\n",
    "eval_model = evaluation_model()\n",
    "g_loss_list = []\n",
    "d_loss_list = []\n",
    "\n",
    "for epoch in tqdm.notebook.tqdm(range(epochs)):\n",
    "    total_d_loss = 0\n",
    "    total_g_loss = 0\n",
    "    \n",
    "    for i, (real_imgs, labels) in enumerate(train_loader):\n",
    "        batch_size = real_imgs.shape[0]\n",
    "\n",
    "        real_imgs = real_imgs[:, :3].to(device)\n",
    "        real_labels = labels.to(device)\n",
    "        \n",
    "        # Adversarial ground truths\n",
    "        one = torch.FloatTensor([1])\n",
    "        mone = one * -1\n",
    "        one = one.to(device)\n",
    "        mone = mone.to(device)\n",
    "        \n",
    "        # Requires grad, Generator requires_grad = False\n",
    "        for p in discriminator.parameters():\n",
    "            p.requires_grad = True\n",
    "            \n",
    "        for j in range(n_critic):\n",
    "            # Sample noise and labels as generator input\n",
    "            z = Variable(FloatTensor(np.random.normal(0, 1, (batch_size, latent_dim)))).to(device) # shape [batch_size, latent_dim] with normal distribution\n",
    "            gen_labels = Variable(LongTensor(np.random.randint(0, n_classes, (batch_size, 1)))) # shape [batch_size, 1] with 0~24\n",
    "            one_hot =  np.zeros((batch_size, n_classes))\n",
    "            one_hot[np.arange(batch_size), gen_labels] = 1\n",
    "            gen_labels = torch.from_numpy(one_hot).to(device)   \n",
    "\n",
    "            # ---------------------\n",
    "            #  Train Discriminator\n",
    "            # ---------------------\n",
    "            optimizer_D.zero_grad()\n",
    "\n",
    "            # Generate a batch of images\n",
    "            gen_imgs = generator(z, gen_labels) # shape [batch_size, 3, 64, 64]\n",
    "            d_loss = - (torch.mean(discriminator(real_imgs, real_labels)) - torch.mean(discriminator(gen_imgs.detach(), gen_labels.detach())))\n",
    "            d_loss.backward()\n",
    "            optimizer_D.step()\n",
    "            \n",
    "            for parm in discriminator.parameters():\n",
    "                parm.data.clamp_(-clip_value, clip_value)\n",
    "                \n",
    "#             print(f'  Discriminator iteration: {j}/{n_critic}, loss_fake: {d_loss_fake.item()}, loss_real: {d_loss_real.item()}')\n",
    "        \n",
    "        # -----------------\n",
    "        #  Train Generator\n",
    "        # -----------------\n",
    "\n",
    "        for p in discriminator.parameters():\n",
    "            p.requires_grad = False # to avoid computation\n",
    "        optimizer_G.zero_grad()\n",
    "\n",
    "        g_loss = -torch.mean(discriminator(gen_imgs, gen_labels))\n",
    "        g_loss.backward()\n",
    "        optimizer_G.step()\n",
    "#         print(f'  Generator iteration g_loss: {g_loss.item()}')\n",
    "\n",
    "        \n",
    "        total_d_loss += d_loss.item()\n",
    "        total_g_loss += g_loss.item()\n",
    "        \n",
    "#     print(eval_model.eval(gen_imgs[:, :3], labels))\n",
    "    \n",
    "    total_d_loss /= len(train_loader)\n",
    "    total_g_loss /= len(train_loader)\n",
    "    \n",
    "    # loss save\n",
    "    if save:\n",
    "        save_acc(total_g_loss, total_d_loss)\n",
    "    else:\n",
    "        g_loss_list.append(total_g_loss)\n",
    "        d_loss_list.append(total_d_loss)\n",
    "    \n",
    "    print(\n",
    "        \"[Epoch %d/%d] [D loss: %f] [G loss: %f]\"\n",
    "        % (epoch+1, epochs, total_d_loss, total_g_loss)\n",
    "    )\n",
    "    \n",
    "if save:\n",
    "    print(\"Saving model weight...\")\n",
    "    torch.save(discriminator, \"./discriminator.pt\")\n",
    "    torch.save(generator, \"./generator.pt\")\n",
    "    print(\"Save Done!\")"
   ]
  },
  {
   "cell_type": "code",
   "execution_count": 7,
   "metadata": {},
   "outputs": [
    {
     "data": {
      "image/png": "[encoded data removed]",
      "text/plain": [
       "<Figure size 1008x576 with 1 Axes>"
      ]
     },
     "metadata": {
      "needs_background": "light"
     },
     "output_type": "display_data"
    }
   ],
   "source": [
    "plt.figure(figsize=(14, 8))\n",
    "\n",
    "load = True\n",
    "if load:\n",
    "    acc = np.load('loss.npz')\n",
    "    g_loss = acc['g_loss']\n",
    "    d_loss = acc['d_loss']\n",
    "\n",
    "# plt.title(\"Activation Function comparision(EEGNet)\", fontsize=18)\n",
    "plt.ylabel(\"Loss\", fontsize=14)\n",
    "plt.xlabel(\"Epoch\", fontsize=14)\n",
    "x = np.arange(1, len(g_loss)+1)\n",
    "plt.plot(x, g_loss, label=\"g_loss\")\n",
    "plt.plot(x, d_loss, label=\"d_loss\")\n",
    "plt.legend()\n",
    "plt.show()"
   ]
  },
  {
   "cell_type": "code",
   "execution_count": 8,
   "metadata": {},
   "outputs": [],
   "source": [
    "## evaluate\n",
    "batch_size = 8\n",
    "z = Variable(FloatTensor(np.random.normal(0, 1, (batch_size, latent_dim)))).to(device) # shape [batch_size, latent_dim] with normal distribution\n",
    "gen_labels = Variable(LongTensor(np.random.randint(0, n_classes, (batch_size, 1)))) # shape [batch_size, 1] with 0~24\n",
    "one_hot =  np.zeros((batch_size, n_classes))\n",
    "one_hot[np.arange(batch_size), gen_labels] = 1\n",
    "gen_labels = torch.from_numpy(one_hot).to(device)  \n",
    "\n",
    "gen_imgs = generator(z, gen_labels) # shape [batch_size, 3, 64, 64]"
   ]
  },
  {
   "cell_type": "code",
   "execution_count": 9,
   "metadata": {},
   "outputs": [
    {
     "name": "stdout",
     "output_type": "stream",
     "text": [
      "0.1111111111111111\n"
     ]
    },
    {
     "data": {
      "image/png": "[encoded data removed]",
      "text/plain": [
       "<Figure size 432x288 with 1 Axes>"
      ]
     },
     "metadata": {
      "needs_background": "light"
     },
     "output_type": "display_data"
    },
    {
     "data": {
      "image/png": "[encoded data removed]",
      "text/plain": [
       "<Figure size 432x288 with 1 Axes>"
      ]
     },
     "metadata": {
      "needs_background": "light"
     },
     "output_type": "display_data"
    }
   ],
   "source": [
    " # step 1: convert it to [0 ,2]\n",
    "gen_imgs = gen_imgs +1\n",
    "\n",
    " # step 2: convert it to [0 ,1]\n",
    "gen_imgs = gen_imgs - gen_imgs.min()\n",
    "gen_imgs = gen_imgs / (gen_imgs.max() - gen_imgs.min())\n",
    "\n",
    "eval_model = evaluation_model()\n",
    "print(eval_model.eval(gen_imgs[:, :3], labels))\n",
    "\n",
    "plt.imshow(np.transpose(gen_imgs[0].detach().cpu().numpy(), (1, 2, 0)))\n",
    "plt.show()\n",
    "plt.imshow(np.transpose(gen_imgs[1].detach().cpu().numpy(), (1, 2, 0)))\n",
    "plt.show()\n"
   ]
  },
  {
   "cell_type": "code",
   "execution_count": 10,
   "metadata": {},
   "outputs": [
    {
     "name": "stdout",
     "output_type": "stream",
     "text": [
      "torch.Size([64, 4, 64, 64])\n",
      "0.9682539682539683\n"
     ]
    }
   ],
   "source": [
    "eval_model = evaluation_model()\n",
    "for images, labels in train_loader:\n",
    "    images = images.to(device)\n",
    "    labels = labels.to(device)\n",
    "    out = F.interpolate(images, size=64)  #The resize operation on tensor.\n",
    "    print(out.shape)\n",
    "    print(eval_model.eval(images[:, :3], labels))\n",
    "#     grid = make_grid(out)\n",
    "    break"
   ]
  },
  {
   "cell_type": "code",
   "execution_count": 11,
   "metadata": {},
   "outputs": [
    {
     "name": "stdout",
     "output_type": "stream",
     "text": [
      "torch.Size([4, 64, 64])\n"
     ]
    },
    {
     "data": {
      "text/plain": [
       "<matplotlib.image.AxesImage at 0x7fbf01e816d0>"
      ]
     },
     "execution_count": 11,
     "metadata": {},
     "output_type": "execute_result"
    },
    {
     "data": {
      "image/png": "[encoded data removed]",
      "text/plain": [
       "<Figure size 432x288 with 1 Axes>"
      ]
     },
     "metadata": {
      "needs_background": "light"
     },
     "output_type": "display_data"
    }
   ],
   "source": [
    "img, label = train.__getitem__(0)\n",
    "\n",
    " # step 1: convert it to [0 ,2]\n",
    "img = img +1\n",
    "\n",
    " # step 2: convert it to [0 ,1]\n",
    "img = img - img.min()\n",
    "img = img / (img.max() - img.min())\n",
    "print(img.shape)\n",
    "plt.imshow(np.transpose(img,(1,2,0)))"
   ]
  },
  {
   "cell_type": "code",
   "execution_count": 12,
   "metadata": {},
   "outputs": [
    {
     "data": {
      "text/plain": [
       "282"
      ]
     },
     "execution_count": 12,
     "metadata": {},
     "output_type": "execute_result"
    }
   ],
   "source": [
    "len(train_loader)"
   ]
  }
 ],
 "metadata": {
  "kernelspec": {
   "display_name": "Python 3",
   "language": "python",
   "name": "python3"
  },
  "language_info": {
   "codemirror_mode": {
    "name": "ipython",
    "version": 3
   },
   "file_extension": ".py",
   "mimetype": "text/x-python",
   "name": "python",
   "nbconvert_exporter": "python",
   "pygments_lexer": "ipython3",
   "version": "3.7.6"
  }
 },
 "nbformat": 4,
 "nbformat_minor": 4
}
