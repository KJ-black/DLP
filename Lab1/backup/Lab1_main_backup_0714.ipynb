{
  "nbformat": 4,
  "nbformat_minor": 0,
  "metadata": {
    "colab": {
      "name": "Lab1.ipynb",
      "provenance": [],
      "collapsed_sections": []
    },
    "kernelspec": {
      "name": "python3",
      "display_name": "Python 3"
    },
    "language_info": {
      "name": "python"
    }
  },
  "cells": [
    {
      "cell_type": "markdown",
      "metadata": {
        "id": "qcWxx60ANiwc"
      },
      "source": [
        "# Lab1 - Back Propagation\n",
        "\n",
        "建造一個具有兩層hidden layers的model，並計算forward和backward propagation，來預測Linear和XOR dataset。"
      ]
    },
    {
      "cell_type": "code",
      "metadata": {
        "id": "Yzhktva5p0QX"
      },
      "source": [
        "import numpy as np\n",
        "import matplotlib.pyplot as plt\n",
        "np.set_printoptions(suppress=True) # don't use scientific notation"
      ],
      "execution_count": null,
      "outputs": []
    },
    {
      "cell_type": "markdown",
      "metadata": {
        "id": "crHKbPn1Nsie"
      },
      "source": [
        "### Dataset generation\n",
        "\n",
        "x: shape = (number of data, input dimension)<br>\n",
        "y: shape = (number of data, label)\n",
        "\n",
        "- linear:\n",
        "  - label = 0, x1 > x2 which falls on the bottom-right side.\n",
        "  - label = 1, x1 < x2 which falls on the uppear-left side.\n",
        "\n",
        "- XOR:\n",
        "  - label = 0, x2 = x1\n",
        "  - label = 1, x2 = 1 - x1"
      ]
    },
    {
      "cell_type": "code",
      "metadata": {
        "id": "SaHbm2awxLNQ"
      },
      "source": [
        "def generate_linear(n=100):\n",
        "  np.random.seed(0)\n",
        "  pts = np.random.uniform(0, 1, (n, 2))\n",
        "  inputs = []\n",
        "  labels = []\n",
        "  for pt in pts:\n",
        "    inputs.append([pt[0], pt[1]])\n",
        "    distance = (pt[0]-pt[1])/1.414\n",
        "    if pt[0] > pt[1]:\n",
        "      labels.append(0)\n",
        "    else:\n",
        "      labels.append(1)\n",
        "\n",
        "  return np.array(inputs), np.array(labels).reshape(n, 1)"
      ],
      "execution_count": null,
      "outputs": []
    },
    {
      "cell_type": "code",
      "metadata": {
        "id": "RX9XJ6j11S3n"
      },
      "source": [
        "def generate_XOR_easy(n=10):\n",
        "  inputs = []\n",
        "  labels = []\n",
        "  for i in range(n+1):\n",
        "    inputs.append([0.1*i, 0.1*i])\n",
        "    labels.append(0)\n",
        "  \n",
        "    if 0.1*i == 0.5:\n",
        "      continue\n",
        "    \n",
        "    inputs.append([0.1*i, 1-0.1*i])\n",
        "    labels.append(1)\n",
        "\n",
        "  return np.array(inputs), np.array(labels).reshape(21, 1)"
      ],
      "execution_count": null,
      "outputs": []
    },
    {
      "cell_type": "markdown",
      "metadata": {
        "id": "mRphkGnk6YKD"
      },
      "source": [
        "## Activation Function\n",
        "\n",
        "### Sigmoid\n",
        "$$ \\sigma = \\frac{1}{1+e^{-x}} $$\n",
        "\n",
        "$$ \\frac{\\partial\\sigma}{\\partial x} = \\sigma(x)(1-\\sigma(x))   $$"
      ]
    },
    {
      "cell_type": "code",
      "metadata": {
        "id": "28hSXl1y3j4E"
      },
      "source": [
        "def sigmoid(x):\n",
        "  return 1.0/(1.0 + np.exp(-x))\n",
        "\n",
        "def derivative_sigmoid(x):\n",
        "  return np.multiply(sigmoid(x), 1-sigmoid(x))"
      ],
      "execution_count": null,
      "outputs": []
    },
    {
      "cell_type": "code",
      "metadata": {
        "id": "c58dy600Eg7J"
      },
      "source": [
        "def init_parameter(nx, nh1, nh2, ny):\n",
        "  w1 = np.random.randn(nx, nh1)\n",
        "  # b1 = np.zeros([100, 1]) \n",
        "  w2 = np.random.randn(nh1, nh2)\n",
        "  # b2 = np.zeros([100, 1]) \n",
        "  w3 = np.random.randn(nh2, ny)\n",
        "  # b3 = np.zeros([100, 1])\n",
        "\n",
        "  return w1, w2, w3\n",
        "\n",
        "# init_parameter(2, 10, 10, 1)"
      ],
      "execution_count": null,
      "outputs": []
    },
    {
      "cell_type": "code",
      "metadata": {
        "id": "ZK69fQ-fGebn"
      },
      "source": [
        "def forward(x, parameters):\n",
        "  w1, w2, w3 = parameters\n",
        "\n",
        "  z1 = np.dot(x, w1)\n",
        "  a1 = sigmoid(z1)\n",
        "  z2 = np.dot(a1, w2)\n",
        "  a2 = sigmoid(z2)\n",
        "  z3 = np.dot(a2, w3)\n",
        "  a3 = sigmoid(z3)\n",
        "\n",
        "  return z1, a1, z2, a2, z3, a3"
      ],
      "execution_count": null,
      "outputs": []
    },
    {
      "cell_type": "code",
      "metadata": {
        "id": "n8nBg-WYHP6B"
      },
      "source": [
        "def loss_func(y, y_pred):\n",
        "  m = y.shape[0]\n",
        "  cost_sum = np.multiply(np.log(y_pred), y) + np.multiply((1 - y), np.log(1 - y_pred))\n",
        "  cost = - np.sum(cost_sum) / m\n",
        "  cost = np.squeeze(cost)\n",
        "  return cost"
      ],
      "execution_count": null,
      "outputs": []
    },
    {
      "cell_type": "code",
      "metadata": {
        "id": "zl2cqAz1QibL"
      },
      "source": [
        "def backward(parameters, neural, x, y):\n",
        "  m = y.shape[0]\n",
        "  w1, w2, w3 = parameters\n",
        "  z1, a1, z2, a2, z3, a3 = neural\n",
        "\n",
        "  # output to hidden layer 2\n",
        "  da3 = - np.divide(y, a3) + np.divide(1-y, 1-a3)\n",
        "  dz3 = da3 * derivative_sigmoid(z3)\n",
        "  dw3 = 1/m * np.dot(a2.T, dz3)\n",
        "\n",
        "  # hidden layer 2 to hidden layer 1\n",
        "  da2 = np.dot(dz3, w3.T)\n",
        "  dz2 = da2 * derivative_sigmoid(z2)\n",
        "  dw2 = 1/m * np.dot(a1.T, dz2)\n",
        "  \n",
        "  # hidden layer 1 to input\n",
        "  da1 = np.dot(dz2, w2.T)\n",
        "  dz1 = da1 * derivative_sigmoid(z1)\n",
        "  dw1 = 1/m * np.dot(x.T, dz1)\n",
        "\n",
        "  return dw1, dw2, dw3\n",
        "  # return dw1, dz1, da1, dw2, dz2, da2, dw3, dz3, da3 "
      ],
      "execution_count": null,
      "outputs": []
    },
    {
      "cell_type": "code",
      "metadata": {
        "id": "n5aT02PI6tre"
      },
      "source": [
        "def update_parameters(parameters, gradients, lr=0.01):\n",
        "  dw1, dw2, dw3 = gradients\n",
        "  w1, w2, w3 = parameters\n",
        "\n",
        "  w1 = w1 - lr*dw1\n",
        "  w2 = w2 - lr*dw2\n",
        "  w3 = w3 - lr*dw3\n",
        "\n",
        "  return w1, w2, w3"
      ],
      "execution_count": null,
      "outputs": []
    },
    {
      "cell_type": "code",
      "metadata": {
        "id": "jDyZHKv87PIp"
      },
      "source": [
        "def model(x, y, nh1, nh2, iter=10000, lr=0.01):\n",
        "  costs = []\n",
        "    \n",
        "  nx = x.shape[1]\n",
        "  ny = y.shape[1]\n",
        "  \n",
        "  # init parameters\n",
        "  parameters = init_parameter(nx, nh1, nh2, ny)\n",
        "  for i in range(iter):\n",
        "    neural = forward(x, parameters)\n",
        "    cost = loss_func(y, neural[5])\n",
        "    gradients = backward(parameters, neural, x, y)\n",
        "    parameters = update_parameters(parameters, gradients, lr)\n",
        "    \n",
        "    if i % 5000 == 0:\n",
        "      costs.append(cost)\n",
        "      print(\"epoch {} loss : {}\".format(i, cost))\n",
        "\n",
        "  return parameters, costs"
      ],
      "execution_count": null,
      "outputs": []
    },
    {
      "cell_type": "code",
      "metadata": {
        "id": "Ug9qWeRaurOM"
      },
      "source": [
        "def show_result(x, y, pred_y, iter, step, costs):\n",
        "  plt.figure(figsize=(15, 5))\n",
        "  plt.subplot(1, 3, 1)\n",
        "  plt.title('Ground truth', fontsize=18)\n",
        "  plt.xlabel(\"x1\", fontsize=12)\n",
        "  plt.ylabel(\"x2\", fontsize=12)\n",
        "  for i in range(x.shape[0]):\n",
        "    if y[i] == 0:\n",
        "      plt.plot(x[i][0], x[i][1], 'ro')\n",
        "    else:\n",
        "      plt.plot(x[i][0], x[i][1], 'bo')\n",
        "\n",
        "  plt.subplot(1, 3, 2)\n",
        "  plt.title('Predict result', fontsize=18)\n",
        "  plt.xlabel(\"x1\", fontsize=12)\n",
        "  plt.ylabel(\"x2\", fontsize=12)\n",
        "  for i in range(x.shape[0]):\n",
        "    if pred_y[i,:] < 0.5:\n",
        "      plt.plot(x[i][0], x[i][1], 'ro')\n",
        "    else:\n",
        "      plt.plot(x[i][0], x[i][1], 'bo')\n",
        "\n",
        "  plt.subplot(1, 3, 3)\n",
        "  plt.title('Learning Curve', fontsize=18)  \n",
        "  plt.xlabel(\"Epoch\", fontsize=12)\n",
        "  plt.ylabel(\"Loss\", fontsize=12)\n",
        "  plt.plot(np.arange(0, iter, step), costs)\n",
        "\n",
        "  plt.tight_layout()\n",
        "  plt.show()"
      ],
      "execution_count": null,
      "outputs": []
    },
    {
      "cell_type": "code",
      "metadata": {
        "colab": {
          "base_uri": "https://localhost:8080/",
          "height": 1000
        },
        "id": "46lu3Rjr9gWM",
        "outputId": "7071e79b-bd35-4685-c7a5-c8df0b41166a"
      },
      "source": [
        "iter = 150000\n",
        "np.random.seed(10)\n",
        "x_train_linear, y_train_linear = generate_linear(100)\n",
        "parameters_linear, costs_linear = model(x_train_linear, y_train_linear, 10, 10, iter=iter, lr=0.01)\n",
        "*_, y_pred_linear = forward(x_train_linear, parameters_linear)\n",
        "print(y_pred_linear)\n",
        "show_result(x_train_linear, y_train_linear, y_pred_linear, iter, 5000, costs_linear)"
      ],
      "execution_count": null,
      "outputs": [
        {
          "output_type": "stream",
          "text": [
            "epoch 0 loss : 0.7551380924502847\n",
            "epoch 5000 loss : 0.32127491075197234\n",
            "epoch 10000 loss : 0.16142473010857336\n",
            "epoch 15000 loss : 0.10622707189940829\n",
            "epoch 20000 loss : 0.08006365218829962\n",
            "epoch 25000 loss : 0.06490587343922537\n",
            "epoch 30000 loss : 0.054991687077352\n",
            "epoch 35000 loss : 0.047972084231739064\n",
            "epoch 40000 loss : 0.04271929111240981\n",
            "epoch 45000 loss : 0.03862570447943232\n",
            "epoch 50000 loss : 0.03533498900856528\n",
            "epoch 55000 loss : 0.03262421712039268\n",
            "epoch 60000 loss : 0.030346670883125957\n",
            "epoch 65000 loss : 0.02840176969265186\n",
            "epoch 70000 loss : 0.026718209450847876\n",
            "epoch 75000 loss : 0.02524399891114599\n",
            "epoch 80000 loss : 0.02394030918704075\n",
            "epoch 85000 loss : 0.02277753498302644\n",
            "epoch 90000 loss : 0.021732691834338\n",
            "epoch 95000 loss : 0.02078764891143171\n",
            "epoch 100000 loss : 0.019927900350433816\n",
            "epoch 105000 loss : 0.0191416929073859\n",
            "epoch 110000 loss : 0.018419394911752204\n",
            "epoch 115000 loss : 0.017753032036715865\n",
            "epoch 120000 loss : 0.017135940554287417\n",
            "epoch 125000 loss : 0.016562504732577536\n",
            "epoch 130000 loss : 0.01602795542330778\n",
            "epoch 135000 loss : 0.015528213775188147\n",
            "epoch 140000 loss : 0.015059768657047536\n",
            "epoch 145000 loss : 0.014619579563563143\n",
            "[[0.99974327]\n",
            " [0.04523523]\n",
            " [0.99985184]\n",
            " [0.99990368]\n",
            " [0.00022762]\n",
            " [0.00033447]\n",
            " [0.99989124]\n",
            " [0.89100336]\n",
            " [0.99992785]\n",
            " [0.99869444]\n",
            " [0.00071436]\n",
            " [0.9998903 ]\n",
            " [0.99992222]\n",
            " [0.99992122]\n",
            " [0.00369763]\n",
            " [0.99991373]\n",
            " [0.99925021]\n",
            " [0.99992877]\n",
            " [0.82406783]\n",
            " [0.0003282 ]\n",
            " [0.99727941]\n",
            " [0.00026442]\n",
            " [0.82597331]\n",
            " [0.01132388]\n",
            " [0.98688792]\n",
            " [0.00171468]\n",
            " [0.00022654]\n",
            " [0.07084055]\n",
            " [0.00027884]\n",
            " [0.00047558]\n",
            " [0.0679206 ]\n",
            " [0.00027067]\n",
            " [0.99979762]\n",
            " [0.00024482]\n",
            " [0.0002427 ]\n",
            " [0.00023001]\n",
            " [0.00024973]\n",
            " [0.00025855]\n",
            " [0.00100984]\n",
            " [0.00081304]\n",
            " [0.99875283]\n",
            " [0.99992605]\n",
            " [0.00032909]\n",
            " [0.00030431]\n",
            " [0.99989042]\n",
            " [0.99990247]\n",
            " [0.99992197]\n",
            " [0.00394506]\n",
            " [0.00028772]\n",
            " [0.00024763]\n",
            " [0.00027346]\n",
            " [0.99984075]\n",
            " [0.99990412]\n",
            " [0.41051224]\n",
            " [0.99991739]\n",
            " [0.99990027]\n",
            " [0.00027086]\n",
            " [0.00025371]\n",
            " [0.00028967]\n",
            " [0.00059677]\n",
            " [0.00042104]\n",
            " [0.00027686]\n",
            " [0.99979627]\n",
            " [0.99991359]\n",
            " [0.0002833 ]\n",
            " [0.00059265]\n",
            " [0.99977958]\n",
            " [0.93494764]\n",
            " [0.99757553]\n",
            " [0.00043897]\n",
            " [0.00023574]\n",
            " [0.99990383]\n",
            " [0.00558228]\n",
            " [0.99992339]\n",
            " [0.9998715 ]\n",
            " [0.99992117]\n",
            " [0.9999182 ]\n",
            " [0.99992254]\n",
            " [0.00037777]\n",
            " [0.00035551]\n",
            " [0.00037503]\n",
            " [0.99963857]\n",
            " [0.0034092 ]\n",
            " [0.99992327]\n",
            " [0.00025688]\n",
            " [0.00030363]\n",
            " [0.00085722]\n",
            " [0.00024689]\n",
            " [0.99991089]\n",
            " [0.00026448]\n",
            " [0.99991817]\n",
            " [0.00030787]\n",
            " [0.00027306]\n",
            " [0.99163165]\n",
            " [0.00026406]\n",
            " [0.0006603 ]\n",
            " [0.99991919]\n",
            " [0.0003608 ]\n",
            " [0.9468694 ]\n",
            " [0.99992187]]\n"
          ],
          "name": "stdout"
        },
        {
          "output_type": "display_data",
          "data": {
            "image/png": "[encoded data removed]",
            "text/plain": [
              "<Figure size 1080x360 with 3 Axes>"
            ]
          },
          "metadata": {
            "tags": [],
            "needs_background": "light"
          }
        }
      ]
    },
    {
      "cell_type": "code",
      "metadata": {
        "colab": {
          "base_uri": "https://localhost:8080/",
          "height": 1000
        },
        "id": "6ERtWbyioc1P",
        "outputId": "3cff967f-2cb5-4d45-eb08-44c7add90678"
      },
      "source": [
        "iter = 150000\n",
        "np.random.seed(10)\n",
        "x_train_xor, y_train_xor = generate_XOR_easy(10)\n",
        "parameters_xor, costs_xor = model(x_train_xor, y_train_xor, 10, 10, iter=iter, lr=0.01)\n",
        "*_, y_pred_xor = forward(x_train_xor, parameters_xor)\n",
        "print(y_pred_xor)\n",
        "show_result(x_train_xor, y_train_xor, y_pred_xor, iter, 5000, costs_xor)"
      ],
      "execution_count": null,
      "outputs": [
        {
          "output_type": "stream",
          "text": [
            "epoch 0 loss : 2.980527986737443\n",
            "epoch 5000 loss : 0.6841081894406625\n",
            "epoch 10000 loss : 0.6750800780006874\n",
            "epoch 15000 loss : 0.659762453876336\n",
            "epoch 20000 loss : 0.6301389245054484\n",
            "epoch 25000 loss : 0.5669651407562102\n",
            "epoch 30000 loss : 0.4386845058053084\n",
            "epoch 35000 loss : 0.30166084016881545\n",
            "epoch 40000 loss : 0.213994416247691\n",
            "epoch 45000 loss : 0.15806937134681848\n",
            "epoch 50000 loss : 0.118155187564618\n",
            "epoch 55000 loss : 0.0884125093910559\n",
            "epoch 60000 loss : 0.06673758122624238\n",
            "epoch 65000 loss : 0.05136482850470489\n",
            "epoch 70000 loss : 0.04053154807039513\n",
            "epoch 75000 loss : 0.03280642753418452\n",
            "epoch 80000 loss : 0.027178980319235924\n",
            "epoch 85000 loss : 0.02297841932838321\n",
            "epoch 90000 loss : 0.01976664505566955\n",
            "epoch 95000 loss : 0.01725567348813957\n",
            "epoch 100000 loss : 0.015252981709445893\n",
            "epoch 105000 loss : 0.013627144810557186\n",
            "epoch 110000 loss : 0.012286465945245004\n",
            "epoch 115000 loss : 0.011165592677539206\n",
            "epoch 120000 loss : 0.01021700683288544\n",
            "epoch 125000 loss : 0.009405511736588825\n",
            "epoch 130000 loss : 0.008704590352311076\n",
            "epoch 135000 loss : 0.008093952076926727\n",
            "epoch 140000 loss : 0.007557848990048577\n",
            "epoch 145000 loss : 0.0070838995648342135\n",
            "[[0.00030621]\n",
            " [0.99920193]\n",
            " [0.00110546]\n",
            " [0.99908543]\n",
            " [0.0037149 ]\n",
            " [0.99875501]\n",
            " [0.00842578]\n",
            " [0.99743114]\n",
            " [0.01212186]\n",
            " [0.9674982 ]\n",
            " [0.01232402]\n",
            " [0.01014612]\n",
            " [0.97088403]\n",
            " [0.0075069 ]\n",
            " [0.99861515]\n",
            " [0.00533255]\n",
            " [0.99908059]\n",
            " [0.00377659]\n",
            " [0.99915246]\n",
            " [0.0027197 ]\n",
            " [0.99914715]]\n"
          ],
          "name": "stdout"
        },
        {
          "output_type": "display_data",
          "data": {
            "image/png": "[encoded data removed]",
            "text/plain": [
              "<Figure size 1080x360 with 3 Axes>"
            ]
          },
          "metadata": {
            "tags": [],
            "needs_background": "light"
          }
        }
      ]
    },
    {
      "cell_type": "code",
      "metadata": {
        "id": "aoSXifVR75gk"
      },
      "source": [
        ""
      ],
      "execution_count": null,
      "outputs": []
    }
  ]
}