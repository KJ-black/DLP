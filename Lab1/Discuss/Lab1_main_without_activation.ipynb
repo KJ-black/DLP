{
 "cells": [
  {
   "cell_type": "markdown",
   "metadata": {
    "id": "qcWxx60ANiwc"
   },
   "source": [
    "# Lab1 - Back Propagation\n",
    "\n",
    "建造一個具有兩層hidden layers的model，並計算forward和backward propagation，來預測Linear和XOR dataset。"
   ]
  },
  {
   "cell_type": "code",
   "execution_count": 1,
   "metadata": {
    "id": "Yzhktva5p0QX"
   },
   "outputs": [],
   "source": [
    "import numpy as np\n",
    "import matplotlib.pyplot as plt\n",
    "np.set_printoptions(suppress=True) # don't use scientific notation"
   ]
  },
  {
   "cell_type": "markdown",
   "metadata": {
    "id": "crHKbPn1Nsie"
   },
   "source": [
    "### Dataset generation\n",
    "\n",
    "x: shape = (number of data, input dimension)<br>\n",
    "y: shape = (number of data, label)\n",
    "\n",
    "- linear:\n",
    "  - label = 0, x1 > x2 which falls on the bottom-right side.\n",
    "  - label = 1, x1 < x2 which falls on the upper-left side.\n",
    "\n",
    "- XOR:\n",
    "  - label = 0, x2 = x1\n",
    "  - label = 1, x2 = 1 - x1"
   ]
  },
  {
   "cell_type": "code",
   "execution_count": 2,
   "metadata": {
    "id": "SaHbm2awxLNQ"
   },
   "outputs": [],
   "source": [
    "def generate_linear(n=100, seed=10):\n",
    "  np.random.seed(seed)\n",
    "  pts = np.random.uniform(0, 1, (n, 2))\n",
    "  inputs = []\n",
    "  labels = []\n",
    "  for pt in pts:\n",
    "    inputs.append([pt[0], pt[1]])\n",
    "    distance = (pt[0]-pt[1])/1.414\n",
    "    if pt[0] > pt[1]:\n",
    "      labels.append(0)\n",
    "    else:\n",
    "      labels.append(1)\n",
    "\n",
    "  return np.array(inputs), np.array(labels).reshape(n, 1)"
   ]
  },
  {
   "cell_type": "code",
   "execution_count": 3,
   "metadata": {
    "id": "RX9XJ6j11S3n"
   },
   "outputs": [],
   "source": [
    "def generate_XOR_easy(n=10):\n",
    "  inputs = []\n",
    "  labels = []\n",
    "  for i in range(n+1):\n",
    "    inputs.append([0.1*i, 0.1*i])\n",
    "    labels.append(0)\n",
    "  \n",
    "    if 0.1*i == 0.5:\n",
    "      continue\n",
    "    \n",
    "    inputs.append([0.1*i, 1-0.1*i])\n",
    "    labels.append(1)\n",
    "\n",
    "  return np.array(inputs), np.array(labels).reshape(2*n+1, 1)"
   ]
  },
  {
   "cell_type": "markdown",
   "metadata": {
    "id": "mRphkGnk6YKD"
   },
   "source": [
    "## Activation Function\n",
    "\n",
    "### Sigmoid\n",
    "$$ \\sigma = \\frac{1}{1+e^{-x}} $$\n",
    "\n",
    "$$ \\frac{\\partial\\sigma}{\\partial x} = \\sigma(x)(1-\\sigma(x))   $$"
   ]
  },
  {
   "cell_type": "code",
   "execution_count": 4,
   "metadata": {
    "id": "28hSXl1y3j4E"
   },
   "outputs": [],
   "source": [
    "def sigmoid(x):\n",
    "  return 1.0/(1.0 + np.exp(-x))\n",
    "\n",
    "def derivative_sigmoid(x):\n",
    "  return np.multiply(sigmoid(x), 1-sigmoid(x))"
   ]
  },
  {
   "cell_type": "markdown",
   "metadata": {
    "id": "0DatK0ve489I"
   },
   "source": [
    "## Neural Network Model"
   ]
  },
  {
   "cell_type": "code",
   "execution_count": 5,
   "metadata": {
    "id": "c58dy600Eg7J"
   },
   "outputs": [],
   "source": [
    "def init_parameter(nx, nh1, nh2, ny):\n",
    "  w1 = np.random.randn(nx, nh1)\n",
    "  # b1 = np.zeros([100, 1]) \n",
    "  w2 = np.random.randn(nh1, nh2)\n",
    "  # b2 = np.zeros([100, 1]) \n",
    "  w3 = np.random.randn(nh2, ny)\n",
    "  # b3 = np.zeros([100, 1])\n",
    "\n",
    "  return w1, w2, w3\n",
    "\n",
    "# init_parameter(2, 10, 10, 1)"
   ]
  },
  {
   "cell_type": "code",
   "execution_count": 19,
   "metadata": {
    "id": "ZK69fQ-fGebn"
   },
   "outputs": [],
   "source": [
    "def forward(x, parameters):\n",
    "  w1, w2, w3 = parameters\n",
    "\n",
    "  z1 = np.dot(x, w1)\n",
    "#   a1 = sigmoid(z1)\n",
    "  z2 = np.dot(z1, w2)\n",
    "#   a2 = sigmoid(z2)\n",
    "  z3 = np.dot(z2, w3)\n",
    "  y = sigmoid(z3)\n",
    "\n",
    "  return z1, z2, z3, y"
   ]
  },
  {
   "cell_type": "code",
   "execution_count": 7,
   "metadata": {
    "id": "n8nBg-WYHP6B"
   },
   "outputs": [],
   "source": [
    "def loss_func(y, y_pred):\n",
    "  m = y.shape[0]\n",
    "  cost_sum = np.multiply(np.log(y_pred), y) + np.multiply((1 - y), np.log(1 - y_pred))\n",
    "  cost = - np.sum(cost_sum) / m\n",
    "  cost = np.squeeze(cost)\n",
    "  return cost"
   ]
  },
  {
   "cell_type": "code",
   "execution_count": 22,
   "metadata": {
    "id": "zl2cqAz1QibL"
   },
   "outputs": [],
   "source": [
    "def backward(parameters, neural, x, y):\n",
    "  m = y.shape[0]\n",
    "  w1, w2, w3 = parameters\n",
    "  z1, z2, z3, a3 = neural\n",
    "\n",
    "  # output to hidden layer 2\n",
    "  da3 = - np.divide(y, a3) + np.divide(1-y, 1-a3)\n",
    "  dz3 = da3 * derivative_sigmoid(z3)\n",
    "  dw3 = 1/m * np.dot(z2.T, dz3)\n",
    "\n",
    "  # hidden layer 2 to hidden layer 1\n",
    "  dz2 = np.dot(dz3, w3.T)\n",
    "  dw2 = 1/m * np.dot(z1.T, dz2)\n",
    "    \n",
    "  # hidden layer 1 to input\n",
    "  dz1 = np.dot(dz2, w2.T)\n",
    "  dw1 = 1/m * np.dot(x.T, dz1)\n",
    "\n",
    "  return dw1, dw2, dw3"
   ]
  },
  {
   "cell_type": "code",
   "execution_count": 9,
   "metadata": {
    "id": "n5aT02PI6tre"
   },
   "outputs": [],
   "source": [
    "def update_parameters(parameters, gradients, lr=0.01):\n",
    "  dw1, dw2, dw3 = gradients\n",
    "  w1, w2, w3 = parameters\n",
    "\n",
    "  w1 = w1 - lr*dw1\n",
    "  w2 = w2 - lr*dw2\n",
    "  w3 = w3 - lr*dw3\n",
    "\n",
    "  return w1, w2, w3"
   ]
  },
  {
   "cell_type": "code",
   "execution_count": 10,
   "metadata": {
    "id": "VCDrcksHqmVr"
   },
   "outputs": [],
   "source": [
    "def accuracy(x, y, y_pred):\n",
    "  correct = 0\n",
    "  for i in range(y.shape[0]):\n",
    "    if y_pred[i,:] < 0.5 and y[i]==0:\n",
    "      correct += 1\n",
    "    elif y_pred[i,:] > 0.5 and y[i]==1:\n",
    "      correct += 1\n",
    "  return correct / y_pred.shape[0]"
   ]
  },
  {
   "cell_type": "code",
   "execution_count": 11,
   "metadata": {
    "id": "Ug9qWeRaurOM"
   },
   "outputs": [],
   "source": [
    "def show_result(x, y, pred_y):\n",
    "  plt.figure(figsize=(10, 5))\n",
    "  plt.subplot(1, 2, 1)\n",
    "  plt.title('Ground truth', fontsize=18)\n",
    "  plt.xlabel(\"x1\", fontsize=12)\n",
    "  plt.ylabel(\"x2\", fontsize=12)\n",
    "  for i in range(x.shape[0]):\n",
    "    if y[i] == 0:\n",
    "      plt.plot(x[i][0], x[i][1], 'ro')\n",
    "    else:\n",
    "      plt.plot(x[i][0], x[i][1], 'bo')\n",
    "\n",
    "  plt.subplot(1, 2, 2)\n",
    "  plt.title('Predict result', fontsize=18)\n",
    "  plt.xlabel(\"x1\", fontsize=12)\n",
    "  plt.ylabel(\"x2\", fontsize=12)\n",
    "  for i in range(x.shape[0]):\n",
    "    if pred_y[i,:] < 0.5:\n",
    "      plt.plot(x[i][0], x[i][1], 'ro')\n",
    "    else:\n",
    "      plt.plot(x[i][0], x[i][1], 'bo')\n",
    "  plt.tight_layout()\n",
    "  plt.show()\n",
    "  \n",
    "def plot_loss(iter, step, costs, test_costs):\n",
    "  plt.title('Learning Curve', fontsize=18)  \n",
    "  plt.xlabel(\"Epoch\", fontsize=12)\n",
    "  plt.ylabel(\"Loss\", fontsize=12)\n",
    "  x = np.arange(0, iter, step)\n",
    "  # plt.ylim(0, 0.7)\n",
    "  plt.plot(x, costs, label = \"training\")\n",
    "  plt.plot(x, test_costs, label = \"testing\")\n",
    "  plt.legend()\n",
    "  plt.tight_layout()\n",
    "  plt.show()\n",
    "\n",
    "\n",
    "def plot_acc(iter, step, accs, test_accs):\n",
    "  plt.figure(figsize=(5, 5))\n",
    "  plt.title(\"Accuracy\", fontsize=18)\n",
    "  plt.xlabel(\"Epoch\", fontsize=12)\n",
    "  plt.ylabel(\"Accuracy\", fontsize=12)\n",
    "  x = np.arange(0, iter, step)\n",
    "  plt.plot(x, accs, label = \"training\")\n",
    "  plt.plot(x, test_accs, label = \"testing\")\n",
    "  plt.legend()\n",
    "  plt.tight_layout()\n",
    "  plt.show()"
   ]
  },
  {
   "cell_type": "code",
   "execution_count": 35,
   "metadata": {
    "id": "jDyZHKv87PIp"
   },
   "outputs": [],
   "source": [
    "def model(x, y, nh1, nh2, iter=10000, lr=0.01, linear=False, xor=False):\n",
    "  costs = []\n",
    "  accs = []\n",
    "  test_costs = []\n",
    "  test_accs = []\n",
    "  nx = x.shape[1]\n",
    "  ny = y.shape[1]\n",
    "  \n",
    "  # init parameters\n",
    "  parameters = init_parameter(nx, nh1, nh2, ny)\n",
    "  for i in range(iter):\n",
    "    neural = forward(x, parameters)\n",
    "    cost = loss_func(y, neural[3])\n",
    "    gradients = backward(parameters, neural, x, y)\n",
    "    parameters = update_parameters(parameters, gradients, lr)\n",
    "    \n",
    "\n",
    "    if i % 5000 == 0:\n",
    "      *_, y_pred = forward(x, parameters)\n",
    "      acc = accuracy(x, y, y_pred)\n",
    "\n",
    "      # testing\n",
    "      seed = np.random.randint(low=0, high=10000, size=1)\n",
    "      if linear:\n",
    "        x_test, y_test = generate_linear(100, seed)\n",
    "      elif xor:\n",
    "        x_test, y_test = generate_XOR_easy(30)\n",
    "      *_, y_pred = forward(x_test, parameters)\n",
    "      test_cost = loss_func(y_test, y_pred)\n",
    "      test_acc = accuracy(x_test, y_test, y_pred)\n",
    "\n",
    "      costs.append(cost)\n",
    "      test_costs.append(test_cost)\n",
    "      accs.append(acc)\n",
    "      test_accs.append(test_acc)\n",
    "      print(\"epoch {} training loss : {} acc : {}, testing loss : {} acc : {}\".format(i, cost, acc, test_cost, test_acc))\n",
    "\n",
    "  return parameters, costs, accs, test_costs, test_accs"
   ]
  },
  {
   "cell_type": "code",
   "execution_count": 34,
   "metadata": {
    "colab": {
     "background_save": true
    },
    "id": "46lu3Rjr9gWM"
   },
   "outputs": [
    {
     "name": "stdout",
     "output_type": "stream",
     "text": [
      "epoch 0 training loss : 2.636102062138026 acc : 0.45, testing loss : 2.272624818191552 acc : 0.51\n",
      "epoch 500 training loss : 0.134381204884593 acc : 1.0, testing loss : 0.12841514704302825 acc : 0.99\n",
      "epoch 1000 training loss : 0.08970263752907365 acc : 1.0, testing loss : 0.15227857630727784 acc : 0.97\n",
      "epoch 1500 training loss : 0.07181948605281492 acc : 1.0, testing loss : 0.08552260995507135 acc : 0.99\n",
      "epoch 2000 training loss : 0.061522107744543496 acc : 1.0, testing loss : 0.062213737903563916 acc : 1.0\n",
      "epoch 2500 training loss : 0.054562801379839855 acc : 1.0, testing loss : 0.06966637221946616 acc : 1.0\n",
      "epoch 3000 training loss : 0.04942174548035046 acc : 1.0, testing loss : 0.03706338036781954 acc : 1.0\n",
      "epoch 3500 training loss : 0.04540622370558591 acc : 1.0, testing loss : 0.058572419894153196 acc : 0.99\n",
      "epoch 4000 training loss : 0.04214920399481862 acc : 1.0, testing loss : 0.04353019493938763 acc : 1.0\n",
      "epoch 4500 training loss : 0.03943497665600229 acc : 1.0, testing loss : 0.028233119992063696 acc : 0.99\n",
      "epoch 5000 training loss : 0.0371267802272216 acc : 1.0, testing loss : 0.04165382638731592 acc : 0.99\n"
     ]
    },
    {
     "name": "stderr",
     "output_type": "stream",
     "text": [
      "/home/ubuntu/anaconda3/lib/python3.7/site-packages/ipykernel_launcher.py:3: RuntimeWarning: divide by zero encountered in log\n",
      "  This is separate from the ipykernel package so we can avoid doing imports until\n",
      "/home/ubuntu/anaconda3/lib/python3.7/site-packages/ipykernel_launcher.py:3: RuntimeWarning: invalid value encountered in multiply\n",
      "  This is separate from the ipykernel package so we can avoid doing imports until\n",
      "/home/ubuntu/anaconda3/lib/python3.7/site-packages/ipykernel_launcher.py:7: RuntimeWarning: invalid value encountered in true_divide\n",
      "  import sys\n"
     ]
    },
    {
     "name": "stdout",
     "output_type": "stream",
     "text": [
      "epoch 5500 training loss : 0.03513275433815911 acc : 1.0, testing loss : 0.04699072639887793 acc : 0.99\n",
      "epoch 6000 training loss : nan acc : 0.0, testing loss : nan acc : 0.0\n",
      "epoch 6500 training loss : nan acc : 0.0, testing loss : nan acc : 0.0\n",
      "epoch 7000 training loss : nan acc : 0.0, testing loss : nan acc : 0.0\n",
      "epoch 7500 training loss : nan acc : 0.0, testing loss : nan acc : 0.0\n",
      "epoch 8000 training loss : nan acc : 0.0, testing loss : nan acc : 0.0\n",
      "epoch 8500 training loss : nan acc : 0.0, testing loss : nan acc : 0.0\n",
      "epoch 9000 training loss : nan acc : 0.0, testing loss : nan acc : 0.0\n",
      "epoch 9500 training loss : nan acc : 0.0, testing loss : nan acc : 0.0\n",
      "epoch 10000 training loss : nan acc : 0.0, testing loss : nan acc : 0.0\n",
      "epoch 10500 training loss : nan acc : 0.0, testing loss : nan acc : 0.0\n",
      "epoch 11000 training loss : nan acc : 0.0, testing loss : nan acc : 0.0\n",
      "epoch 11500 training loss : nan acc : 0.0, testing loss : nan acc : 0.0\n",
      "epoch 12000 training loss : nan acc : 0.0, testing loss : nan acc : 0.0\n",
      "epoch 12500 training loss : nan acc : 0.0, testing loss : nan acc : 0.0\n",
      "epoch 13000 training loss : nan acc : 0.0, testing loss : nan acc : 0.0\n",
      "epoch 13500 training loss : nan acc : 0.0, testing loss : nan acc : 0.0\n",
      "epoch 14000 training loss : nan acc : 0.0, testing loss : nan acc : 0.0\n",
      "epoch 14500 training loss : nan acc : 0.0, testing loss : nan acc : 0.0\n",
      "epoch 15000 training loss : nan acc : 0.0, testing loss : nan acc : 0.0\n",
      "epoch 15500 training loss : nan acc : 0.0, testing loss : nan acc : 0.0\n",
      "epoch 16000 training loss : nan acc : 0.0, testing loss : nan acc : 0.0\n",
      "epoch 16500 training loss : nan acc : 0.0, testing loss : nan acc : 0.0\n",
      "epoch 17000 training loss : nan acc : 0.0, testing loss : nan acc : 0.0\n",
      "epoch 17500 training loss : nan acc : 0.0, testing loss : nan acc : 0.0\n",
      "epoch 18000 training loss : nan acc : 0.0, testing loss : nan acc : 0.0\n",
      "epoch 18500 training loss : nan acc : 0.0, testing loss : nan acc : 0.0\n",
      "epoch 19000 training loss : nan acc : 0.0, testing loss : nan acc : 0.0\n",
      "epoch 19500 training loss : nan acc : 0.0, testing loss : nan acc : 0.0\n",
      "epoch 20000 training loss : nan acc : 0.0, testing loss : nan acc : 0.0\n",
      "epoch 20500 training loss : nan acc : 0.0, testing loss : nan acc : 0.0\n",
      "epoch 21000 training loss : nan acc : 0.0, testing loss : nan acc : 0.0\n",
      "epoch 21500 training loss : nan acc : 0.0, testing loss : nan acc : 0.0\n",
      "epoch 22000 training loss : nan acc : 0.0, testing loss : nan acc : 0.0\n",
      "epoch 22500 training loss : nan acc : 0.0, testing loss : nan acc : 0.0\n",
      "epoch 23000 training loss : nan acc : 0.0, testing loss : nan acc : 0.0\n",
      "epoch 23500 training loss : nan acc : 0.0, testing loss : nan acc : 0.0\n",
      "epoch 24000 training loss : nan acc : 0.0, testing loss : nan acc : 0.0\n",
      "epoch 24500 training loss : nan acc : 0.0, testing loss : nan acc : 0.0\n",
      "epoch 25000 training loss : nan acc : 0.0, testing loss : nan acc : 0.0\n",
      "epoch 25500 training loss : nan acc : 0.0, testing loss : nan acc : 0.0\n",
      "epoch 26000 training loss : nan acc : 0.0, testing loss : nan acc : 0.0\n",
      "epoch 26500 training loss : nan acc : 0.0, testing loss : nan acc : 0.0\n",
      "epoch 27000 training loss : nan acc : 0.0, testing loss : nan acc : 0.0\n",
      "epoch 27500 training loss : nan acc : 0.0, testing loss : nan acc : 0.0\n",
      "epoch 28000 training loss : nan acc : 0.0, testing loss : nan acc : 0.0\n",
      "epoch 28500 training loss : nan acc : 0.0, testing loss : nan acc : 0.0\n",
      "epoch 29000 training loss : nan acc : 0.0, testing loss : nan acc : 0.0\n",
      "epoch 29500 training loss : nan acc : 0.0, testing loss : nan acc : 0.0\n",
      "epoch 30000 training loss : nan acc : 0.0, testing loss : nan acc : 0.0\n",
      "epoch 30500 training loss : nan acc : 0.0, testing loss : nan acc : 0.0\n",
      "epoch 31000 training loss : nan acc : 0.0, testing loss : nan acc : 0.0\n",
      "epoch 31500 training loss : nan acc : 0.0, testing loss : nan acc : 0.0\n",
      "epoch 32000 training loss : nan acc : 0.0, testing loss : nan acc : 0.0\n",
      "epoch 32500 training loss : nan acc : 0.0, testing loss : nan acc : 0.0\n",
      "epoch 33000 training loss : nan acc : 0.0, testing loss : nan acc : 0.0\n",
      "epoch 33500 training loss : nan acc : 0.0, testing loss : nan acc : 0.0\n",
      "epoch 34000 training loss : nan acc : 0.0, testing loss : nan acc : 0.0\n",
      "epoch 34500 training loss : nan acc : 0.0, testing loss : nan acc : 0.0\n",
      "epoch 35000 training loss : nan acc : 0.0, testing loss : nan acc : 0.0\n",
      "epoch 35500 training loss : nan acc : 0.0, testing loss : nan acc : 0.0\n",
      "epoch 36000 training loss : nan acc : 0.0, testing loss : nan acc : 0.0\n",
      "epoch 36500 training loss : nan acc : 0.0, testing loss : nan acc : 0.0\n",
      "epoch 37000 training loss : nan acc : 0.0, testing loss : nan acc : 0.0\n",
      "epoch 37500 training loss : nan acc : 0.0, testing loss : nan acc : 0.0\n",
      "epoch 38000 training loss : nan acc : 0.0, testing loss : nan acc : 0.0\n",
      "epoch 38500 training loss : nan acc : 0.0, testing loss : nan acc : 0.0\n",
      "epoch 39000 training loss : nan acc : 0.0, testing loss : nan acc : 0.0\n",
      "epoch 39500 training loss : nan acc : 0.0, testing loss : nan acc : 0.0\n",
      "epoch 40000 training loss : nan acc : 0.0, testing loss : nan acc : 0.0\n",
      "epoch 40500 training loss : nan acc : 0.0, testing loss : nan acc : 0.0\n",
      "epoch 41000 training loss : nan acc : 0.0, testing loss : nan acc : 0.0\n",
      "epoch 41500 training loss : nan acc : 0.0, testing loss : nan acc : 0.0\n",
      "epoch 42000 training loss : nan acc : 0.0, testing loss : nan acc : 0.0\n",
      "epoch 42500 training loss : nan acc : 0.0, testing loss : nan acc : 0.0\n",
      "epoch 43000 training loss : nan acc : 0.0, testing loss : nan acc : 0.0\n",
      "epoch 43500 training loss : nan acc : 0.0, testing loss : nan acc : 0.0\n",
      "epoch 44000 training loss : nan acc : 0.0, testing loss : nan acc : 0.0\n",
      "epoch 44500 training loss : nan acc : 0.0, testing loss : nan acc : 0.0\n",
      "epoch 45000 training loss : nan acc : 0.0, testing loss : nan acc : 0.0\n",
      "epoch 45500 training loss : nan acc : 0.0, testing loss : nan acc : 0.0\n",
      "epoch 46000 training loss : nan acc : 0.0, testing loss : nan acc : 0.0\n",
      "epoch 46500 training loss : nan acc : 0.0, testing loss : nan acc : 0.0\n",
      "epoch 47000 training loss : nan acc : 0.0, testing loss : nan acc : 0.0\n",
      "epoch 47500 training loss : nan acc : 0.0, testing loss : nan acc : 0.0\n",
      "epoch 48000 training loss : nan acc : 0.0, testing loss : nan acc : 0.0\n",
      "epoch 48500 training loss : nan acc : 0.0, testing loss : nan acc : 0.0\n",
      "epoch 49000 training loss : nan acc : 0.0, testing loss : nan acc : 0.0\n",
      "epoch 49500 training loss : nan acc : 0.0, testing loss : nan acc : 0.0\n",
      "epoch 50000 training loss : nan acc : 0.0, testing loss : nan acc : 0.0\n",
      "epoch 50500 training loss : nan acc : 0.0, testing loss : nan acc : 0.0\n",
      "epoch 51000 training loss : nan acc : 0.0, testing loss : nan acc : 0.0\n",
      "epoch 51500 training loss : nan acc : 0.0, testing loss : nan acc : 0.0\n",
      "epoch 52000 training loss : nan acc : 0.0, testing loss : nan acc : 0.0\n",
      "epoch 52500 training loss : nan acc : 0.0, testing loss : nan acc : 0.0\n",
      "epoch 53000 training loss : nan acc : 0.0, testing loss : nan acc : 0.0\n",
      "epoch 53500 training loss : nan acc : 0.0, testing loss : nan acc : 0.0\n",
      "epoch 54000 training loss : nan acc : 0.0, testing loss : nan acc : 0.0\n",
      "epoch 54500 training loss : nan acc : 0.0, testing loss : nan acc : 0.0\n",
      "epoch 55000 training loss : nan acc : 0.0, testing loss : nan acc : 0.0\n",
      "epoch 55500 training loss : nan acc : 0.0, testing loss : nan acc : 0.0\n",
      "epoch 56000 training loss : nan acc : 0.0, testing loss : nan acc : 0.0\n",
      "epoch 56500 training loss : nan acc : 0.0, testing loss : nan acc : 0.0\n",
      "epoch 57000 training loss : nan acc : 0.0, testing loss : nan acc : 0.0\n",
      "epoch 57500 training loss : nan acc : 0.0, testing loss : nan acc : 0.0\n",
      "epoch 58000 training loss : nan acc : 0.0, testing loss : nan acc : 0.0\n",
      "epoch 58500 training loss : nan acc : 0.0, testing loss : nan acc : 0.0\n",
      "epoch 59000 training loss : nan acc : 0.0, testing loss : nan acc : 0.0\n",
      "epoch 59500 training loss : nan acc : 0.0, testing loss : nan acc : 0.0\n",
      "epoch 60000 training loss : nan acc : 0.0, testing loss : nan acc : 0.0\n",
      "epoch 60500 training loss : nan acc : 0.0, testing loss : nan acc : 0.0\n",
      "epoch 61000 training loss : nan acc : 0.0, testing loss : nan acc : 0.0\n",
      "epoch 61500 training loss : nan acc : 0.0, testing loss : nan acc : 0.0\n",
      "epoch 62000 training loss : nan acc : 0.0, testing loss : nan acc : 0.0\n",
      "epoch 62500 training loss : nan acc : 0.0, testing loss : nan acc : 0.0\n"
     ]
    },
    {
     "name": "stdout",
     "output_type": "stream",
     "text": [
      "epoch 63000 training loss : nan acc : 0.0, testing loss : nan acc : 0.0\n",
      "epoch 63500 training loss : nan acc : 0.0, testing loss : nan acc : 0.0\n",
      "epoch 64000 training loss : nan acc : 0.0, testing loss : nan acc : 0.0\n",
      "epoch 64500 training loss : nan acc : 0.0, testing loss : nan acc : 0.0\n",
      "epoch 65000 training loss : nan acc : 0.0, testing loss : nan acc : 0.0\n",
      "epoch 65500 training loss : nan acc : 0.0, testing loss : nan acc : 0.0\n",
      "epoch 66000 training loss : nan acc : 0.0, testing loss : nan acc : 0.0\n",
      "epoch 66500 training loss : nan acc : 0.0, testing loss : nan acc : 0.0\n",
      "epoch 67000 training loss : nan acc : 0.0, testing loss : nan acc : 0.0\n",
      "epoch 67500 training loss : nan acc : 0.0, testing loss : nan acc : 0.0\n",
      "epoch 68000 training loss : nan acc : 0.0, testing loss : nan acc : 0.0\n",
      "epoch 68500 training loss : nan acc : 0.0, testing loss : nan acc : 0.0\n",
      "epoch 69000 training loss : nan acc : 0.0, testing loss : nan acc : 0.0\n",
      "epoch 69500 training loss : nan acc : 0.0, testing loss : nan acc : 0.0\n",
      "epoch 70000 training loss : nan acc : 0.0, testing loss : nan acc : 0.0\n",
      "epoch 70500 training loss : nan acc : 0.0, testing loss : nan acc : 0.0\n",
      "epoch 71000 training loss : nan acc : 0.0, testing loss : nan acc : 0.0\n",
      "epoch 71500 training loss : nan acc : 0.0, testing loss : nan acc : 0.0\n",
      "epoch 72000 training loss : nan acc : 0.0, testing loss : nan acc : 0.0\n",
      "epoch 72500 training loss : nan acc : 0.0, testing loss : nan acc : 0.0\n",
      "epoch 73000 training loss : nan acc : 0.0, testing loss : nan acc : 0.0\n",
      "epoch 73500 training loss : nan acc : 0.0, testing loss : nan acc : 0.0\n",
      "epoch 74000 training loss : nan acc : 0.0, testing loss : nan acc : 0.0\n",
      "epoch 74500 training loss : nan acc : 0.0, testing loss : nan acc : 0.0\n",
      "epoch 75000 training loss : nan acc : 0.0, testing loss : nan acc : 0.0\n",
      "epoch 75500 training loss : nan acc : 0.0, testing loss : nan acc : 0.0\n",
      "epoch 76000 training loss : nan acc : 0.0, testing loss : nan acc : 0.0\n",
      "epoch 76500 training loss : nan acc : 0.0, testing loss : nan acc : 0.0\n",
      "epoch 77000 training loss : nan acc : 0.0, testing loss : nan acc : 0.0\n",
      "epoch 77500 training loss : nan acc : 0.0, testing loss : nan acc : 0.0\n",
      "epoch 78000 training loss : nan acc : 0.0, testing loss : nan acc : 0.0\n",
      "epoch 78500 training loss : nan acc : 0.0, testing loss : nan acc : 0.0\n",
      "epoch 79000 training loss : nan acc : 0.0, testing loss : nan acc : 0.0\n",
      "epoch 79500 training loss : nan acc : 0.0, testing loss : nan acc : 0.0\n",
      "epoch 80000 training loss : nan acc : 0.0, testing loss : nan acc : 0.0\n",
      "epoch 80500 training loss : nan acc : 0.0, testing loss : nan acc : 0.0\n",
      "epoch 81000 training loss : nan acc : 0.0, testing loss : nan acc : 0.0\n",
      "epoch 81500 training loss : nan acc : 0.0, testing loss : nan acc : 0.0\n",
      "epoch 82000 training loss : nan acc : 0.0, testing loss : nan acc : 0.0\n",
      "epoch 82500 training loss : nan acc : 0.0, testing loss : nan acc : 0.0\n",
      "epoch 83000 training loss : nan acc : 0.0, testing loss : nan acc : 0.0\n",
      "epoch 83500 training loss : nan acc : 0.0, testing loss : nan acc : 0.0\n",
      "epoch 84000 training loss : nan acc : 0.0, testing loss : nan acc : 0.0\n",
      "epoch 84500 training loss : nan acc : 0.0, testing loss : nan acc : 0.0\n",
      "epoch 85000 training loss : nan acc : 0.0, testing loss : nan acc : 0.0\n",
      "epoch 85500 training loss : nan acc : 0.0, testing loss : nan acc : 0.0\n",
      "epoch 86000 training loss : nan acc : 0.0, testing loss : nan acc : 0.0\n",
      "epoch 86500 training loss : nan acc : 0.0, testing loss : nan acc : 0.0\n",
      "epoch 87000 training loss : nan acc : 0.0, testing loss : nan acc : 0.0\n",
      "epoch 87500 training loss : nan acc : 0.0, testing loss : nan acc : 0.0\n",
      "epoch 88000 training loss : nan acc : 0.0, testing loss : nan acc : 0.0\n",
      "epoch 88500 training loss : nan acc : 0.0, testing loss : nan acc : 0.0\n",
      "epoch 89000 training loss : nan acc : 0.0, testing loss : nan acc : 0.0\n",
      "epoch 89500 training loss : nan acc : 0.0, testing loss : nan acc : 0.0\n",
      "epoch 90000 training loss : nan acc : 0.0, testing loss : nan acc : 0.0\n",
      "epoch 90500 training loss : nan acc : 0.0, testing loss : nan acc : 0.0\n",
      "epoch 91000 training loss : nan acc : 0.0, testing loss : nan acc : 0.0\n",
      "epoch 91500 training loss : nan acc : 0.0, testing loss : nan acc : 0.0\n",
      "epoch 92000 training loss : nan acc : 0.0, testing loss : nan acc : 0.0\n",
      "epoch 92500 training loss : nan acc : 0.0, testing loss : nan acc : 0.0\n",
      "epoch 93000 training loss : nan acc : 0.0, testing loss : nan acc : 0.0\n",
      "epoch 93500 training loss : nan acc : 0.0, testing loss : nan acc : 0.0\n",
      "epoch 94000 training loss : nan acc : 0.0, testing loss : nan acc : 0.0\n",
      "epoch 94500 training loss : nan acc : 0.0, testing loss : nan acc : 0.0\n",
      "epoch 95000 training loss : nan acc : 0.0, testing loss : nan acc : 0.0\n",
      "epoch 95500 training loss : nan acc : 0.0, testing loss : nan acc : 0.0\n",
      "epoch 96000 training loss : nan acc : 0.0, testing loss : nan acc : 0.0\n",
      "epoch 96500 training loss : nan acc : 0.0, testing loss : nan acc : 0.0\n",
      "epoch 97000 training loss : nan acc : 0.0, testing loss : nan acc : 0.0\n",
      "epoch 97500 training loss : nan acc : 0.0, testing loss : nan acc : 0.0\n",
      "epoch 98000 training loss : nan acc : 0.0, testing loss : nan acc : 0.0\n",
      "epoch 98500 training loss : nan acc : 0.0, testing loss : nan acc : 0.0\n",
      "epoch 99000 training loss : nan acc : 0.0, testing loss : nan acc : 0.0\n",
      "epoch 99500 training loss : nan acc : 0.0, testing loss : nan acc : 0.0\n",
      "epoch 100000 training loss : nan acc : 0.0, testing loss : nan acc : 0.0\n",
      "epoch 100500 training loss : nan acc : 0.0, testing loss : nan acc : 0.0\n",
      "epoch 101000 training loss : nan acc : 0.0, testing loss : nan acc : 0.0\n",
      "epoch 101500 training loss : nan acc : 0.0, testing loss : nan acc : 0.0\n",
      "epoch 102000 training loss : nan acc : 0.0, testing loss : nan acc : 0.0\n",
      "epoch 102500 training loss : nan acc : 0.0, testing loss : nan acc : 0.0\n",
      "epoch 103000 training loss : nan acc : 0.0, testing loss : nan acc : 0.0\n",
      "epoch 103500 training loss : nan acc : 0.0, testing loss : nan acc : 0.0\n",
      "epoch 104000 training loss : nan acc : 0.0, testing loss : nan acc : 0.0\n",
      "epoch 104500 training loss : nan acc : 0.0, testing loss : nan acc : 0.0\n",
      "epoch 105000 training loss : nan acc : 0.0, testing loss : nan acc : 0.0\n",
      "epoch 105500 training loss : nan acc : 0.0, testing loss : nan acc : 0.0\n",
      "epoch 106000 training loss : nan acc : 0.0, testing loss : nan acc : 0.0\n",
      "epoch 106500 training loss : nan acc : 0.0, testing loss : nan acc : 0.0\n",
      "epoch 107000 training loss : nan acc : 0.0, testing loss : nan acc : 0.0\n",
      "epoch 107500 training loss : nan acc : 0.0, testing loss : nan acc : 0.0\n",
      "epoch 108000 training loss : nan acc : 0.0, testing loss : nan acc : 0.0\n",
      "epoch 108500 training loss : nan acc : 0.0, testing loss : nan acc : 0.0\n",
      "epoch 109000 training loss : nan acc : 0.0, testing loss : nan acc : 0.0\n",
      "epoch 109500 training loss : nan acc : 0.0, testing loss : nan acc : 0.0\n",
      "epoch 110000 training loss : nan acc : 0.0, testing loss : nan acc : 0.0\n",
      "epoch 110500 training loss : nan acc : 0.0, testing loss : nan acc : 0.0\n",
      "epoch 111000 training loss : nan acc : 0.0, testing loss : nan acc : 0.0\n",
      "epoch 111500 training loss : nan acc : 0.0, testing loss : nan acc : 0.0\n",
      "epoch 112000 training loss : nan acc : 0.0, testing loss : nan acc : 0.0\n",
      "epoch 112500 training loss : nan acc : 0.0, testing loss : nan acc : 0.0\n",
      "epoch 113000 training loss : nan acc : 0.0, testing loss : nan acc : 0.0\n",
      "epoch 113500 training loss : nan acc : 0.0, testing loss : nan acc : 0.0\n",
      "epoch 114000 training loss : nan acc : 0.0, testing loss : nan acc : 0.0\n",
      "epoch 114500 training loss : nan acc : 0.0, testing loss : nan acc : 0.0\n",
      "epoch 115000 training loss : nan acc : 0.0, testing loss : nan acc : 0.0\n",
      "epoch 115500 training loss : nan acc : 0.0, testing loss : nan acc : 0.0\n",
      "epoch 116000 training loss : nan acc : 0.0, testing loss : nan acc : 0.0\n",
      "epoch 116500 training loss : nan acc : 0.0, testing loss : nan acc : 0.0\n",
      "epoch 117000 training loss : nan acc : 0.0, testing loss : nan acc : 0.0\n",
      "epoch 117500 training loss : nan acc : 0.0, testing loss : nan acc : 0.0\n",
      "epoch 118000 training loss : nan acc : 0.0, testing loss : nan acc : 0.0\n",
      "epoch 118500 training loss : nan acc : 0.0, testing loss : nan acc : 0.0\n",
      "epoch 119000 training loss : nan acc : 0.0, testing loss : nan acc : 0.0\n",
      "epoch 119500 training loss : nan acc : 0.0, testing loss : nan acc : 0.0\n"
     ]
    },
    {
     "name": "stdout",
     "output_type": "stream",
     "text": [
      "epoch 120000 training loss : nan acc : 0.0, testing loss : nan acc : 0.0\n",
      "epoch 120500 training loss : nan acc : 0.0, testing loss : nan acc : 0.0\n",
      "epoch 121000 training loss : nan acc : 0.0, testing loss : nan acc : 0.0\n",
      "epoch 121500 training loss : nan acc : 0.0, testing loss : nan acc : 0.0\n",
      "epoch 122000 training loss : nan acc : 0.0, testing loss : nan acc : 0.0\n",
      "epoch 122500 training loss : nan acc : 0.0, testing loss : nan acc : 0.0\n",
      "epoch 123000 training loss : nan acc : 0.0, testing loss : nan acc : 0.0\n",
      "epoch 123500 training loss : nan acc : 0.0, testing loss : nan acc : 0.0\n",
      "epoch 124000 training loss : nan acc : 0.0, testing loss : nan acc : 0.0\n",
      "epoch 124500 training loss : nan acc : 0.0, testing loss : nan acc : 0.0\n",
      "epoch 125000 training loss : nan acc : 0.0, testing loss : nan acc : 0.0\n",
      "epoch 125500 training loss : nan acc : 0.0, testing loss : nan acc : 0.0\n",
      "epoch 126000 training loss : nan acc : 0.0, testing loss : nan acc : 0.0\n",
      "epoch 126500 training loss : nan acc : 0.0, testing loss : nan acc : 0.0\n",
      "epoch 127000 training loss : nan acc : 0.0, testing loss : nan acc : 0.0\n",
      "epoch 127500 training loss : nan acc : 0.0, testing loss : nan acc : 0.0\n",
      "epoch 128000 training loss : nan acc : 0.0, testing loss : nan acc : 0.0\n",
      "epoch 128500 training loss : nan acc : 0.0, testing loss : nan acc : 0.0\n",
      "epoch 129000 training loss : nan acc : 0.0, testing loss : nan acc : 0.0\n",
      "epoch 129500 training loss : nan acc : 0.0, testing loss : nan acc : 0.0\n",
      "epoch 130000 training loss : nan acc : 0.0, testing loss : nan acc : 0.0\n",
      "epoch 130500 training loss : nan acc : 0.0, testing loss : nan acc : 0.0\n",
      "epoch 131000 training loss : nan acc : 0.0, testing loss : nan acc : 0.0\n",
      "epoch 131500 training loss : nan acc : 0.0, testing loss : nan acc : 0.0\n",
      "epoch 132000 training loss : nan acc : 0.0, testing loss : nan acc : 0.0\n",
      "epoch 132500 training loss : nan acc : 0.0, testing loss : nan acc : 0.0\n",
      "epoch 133000 training loss : nan acc : 0.0, testing loss : nan acc : 0.0\n",
      "epoch 133500 training loss : nan acc : 0.0, testing loss : nan acc : 0.0\n",
      "epoch 134000 training loss : nan acc : 0.0, testing loss : nan acc : 0.0\n",
      "epoch 134500 training loss : nan acc : 0.0, testing loss : nan acc : 0.0\n",
      "epoch 135000 training loss : nan acc : 0.0, testing loss : nan acc : 0.0\n",
      "epoch 135500 training loss : nan acc : 0.0, testing loss : nan acc : 0.0\n",
      "epoch 136000 training loss : nan acc : 0.0, testing loss : nan acc : 0.0\n",
      "epoch 136500 training loss : nan acc : 0.0, testing loss : nan acc : 0.0\n",
      "epoch 137000 training loss : nan acc : 0.0, testing loss : nan acc : 0.0\n",
      "epoch 137500 training loss : nan acc : 0.0, testing loss : nan acc : 0.0\n",
      "epoch 138000 training loss : nan acc : 0.0, testing loss : nan acc : 0.0\n",
      "epoch 138500 training loss : nan acc : 0.0, testing loss : nan acc : 0.0\n",
      "epoch 139000 training loss : nan acc : 0.0, testing loss : nan acc : 0.0\n",
      "epoch 139500 training loss : nan acc : 0.0, testing loss : nan acc : 0.0\n",
      "epoch 140000 training loss : nan acc : 0.0, testing loss : nan acc : 0.0\n",
      "epoch 140500 training loss : nan acc : 0.0, testing loss : nan acc : 0.0\n",
      "epoch 141000 training loss : nan acc : 0.0, testing loss : nan acc : 0.0\n",
      "epoch 141500 training loss : nan acc : 0.0, testing loss : nan acc : 0.0\n",
      "epoch 142000 training loss : nan acc : 0.0, testing loss : nan acc : 0.0\n",
      "epoch 142500 training loss : nan acc : 0.0, testing loss : nan acc : 0.0\n",
      "epoch 143000 training loss : nan acc : 0.0, testing loss : nan acc : 0.0\n",
      "epoch 143500 training loss : nan acc : 0.0, testing loss : nan acc : 0.0\n",
      "epoch 144000 training loss : nan acc : 0.0, testing loss : nan acc : 0.0\n",
      "epoch 144500 training loss : nan acc : 0.0, testing loss : nan acc : 0.0\n",
      "epoch 145000 training loss : nan acc : 0.0, testing loss : nan acc : 0.0\n",
      "epoch 145500 training loss : nan acc : 0.0, testing loss : nan acc : 0.0\n",
      "epoch 146000 training loss : nan acc : 0.0, testing loss : nan acc : 0.0\n",
      "epoch 146500 training loss : nan acc : 0.0, testing loss : nan acc : 0.0\n",
      "epoch 147000 training loss : nan acc : 0.0, testing loss : nan acc : 0.0\n",
      "epoch 147500 training loss : nan acc : 0.0, testing loss : nan acc : 0.0\n",
      "epoch 148000 training loss : nan acc : 0.0, testing loss : nan acc : 0.0\n",
      "epoch 148500 training loss : nan acc : 0.0, testing loss : nan acc : 0.0\n",
      "epoch 149000 training loss : nan acc : 0.0, testing loss : nan acc : 0.0\n",
      "epoch 149500 training loss : nan acc : 0.0, testing loss : nan acc : 0.0\n"
     ]
    },
    {
     "data": {
      "image/png": "[encoded data removed]",
      "text/plain": [
       "<Figure size 720x360 with 2 Axes>"
      ]
     },
     "metadata": {
      "needs_background": "light"
     },
     "output_type": "display_data"
    },
    {
     "ename": "ValueError",
     "evalue": "x and y must have same first dimension, but have shapes (30,) and (300,)",
     "output_type": "error",
     "traceback": [
      "\u001b[0;31m---------------------------------------------------------------------------\u001b[0m",
      "\u001b[0;31mValueError\u001b[0m                                Traceback (most recent call last)",
      "\u001b[0;32m<ipython-input-34-6acd13adcb97>\u001b[0m in \u001b[0;36m<module>\u001b[0;34m\u001b[0m\n\u001b[1;32m      7\u001b[0m \u001b[0;31m# print(y_pred_linear)\u001b[0m\u001b[0;34m\u001b[0m\u001b[0;34m\u001b[0m\u001b[0;34m\u001b[0m\u001b[0m\n\u001b[1;32m      8\u001b[0m \u001b[0mshow_result\u001b[0m\u001b[0;34m(\u001b[0m\u001b[0mx_train_linear\u001b[0m\u001b[0;34m,\u001b[0m \u001b[0my_train_linear\u001b[0m\u001b[0;34m,\u001b[0m \u001b[0my_pred_linear\u001b[0m\u001b[0;34m)\u001b[0m\u001b[0;34m\u001b[0m\u001b[0;34m\u001b[0m\u001b[0m\n\u001b[0;32m----> 9\u001b[0;31m \u001b[0mplot_loss\u001b[0m\u001b[0;34m(\u001b[0m\u001b[0miter\u001b[0m\u001b[0;34m,\u001b[0m \u001b[0;36m5000\u001b[0m\u001b[0;34m,\u001b[0m \u001b[0mcosts_linear\u001b[0m\u001b[0;34m,\u001b[0m \u001b[0mtest_costs_linear\u001b[0m\u001b[0;34m)\u001b[0m\u001b[0;34m\u001b[0m\u001b[0;34m\u001b[0m\u001b[0m\n\u001b[0m\u001b[1;32m     10\u001b[0m \u001b[0mplot_acc\u001b[0m\u001b[0;34m(\u001b[0m\u001b[0miter\u001b[0m\u001b[0;34m,\u001b[0m \u001b[0;36m5000\u001b[0m\u001b[0;34m,\u001b[0m \u001b[0maccs_linear\u001b[0m\u001b[0;34m,\u001b[0m \u001b[0mtest_accs_linear\u001b[0m\u001b[0;34m)\u001b[0m\u001b[0;34m\u001b[0m\u001b[0;34m\u001b[0m\u001b[0m\n",
      "\u001b[0;32m<ipython-input-11-3e6441a802c6>\u001b[0m in \u001b[0;36mplot_loss\u001b[0;34m(iter, step, costs, test_costs)\u001b[0m\n\u001b[1;32m     29\u001b[0m   \u001b[0mx\u001b[0m \u001b[0;34m=\u001b[0m \u001b[0mnp\u001b[0m\u001b[0;34m.\u001b[0m\u001b[0marange\u001b[0m\u001b[0;34m(\u001b[0m\u001b[0;36m0\u001b[0m\u001b[0;34m,\u001b[0m \u001b[0miter\u001b[0m\u001b[0;34m,\u001b[0m \u001b[0mstep\u001b[0m\u001b[0;34m)\u001b[0m\u001b[0;34m\u001b[0m\u001b[0;34m\u001b[0m\u001b[0m\n\u001b[1;32m     30\u001b[0m   \u001b[0;31m# plt.ylim(0, 0.7)\u001b[0m\u001b[0;34m\u001b[0m\u001b[0;34m\u001b[0m\u001b[0;34m\u001b[0m\u001b[0m\n\u001b[0;32m---> 31\u001b[0;31m   \u001b[0mplt\u001b[0m\u001b[0;34m.\u001b[0m\u001b[0mplot\u001b[0m\u001b[0;34m(\u001b[0m\u001b[0mx\u001b[0m\u001b[0;34m,\u001b[0m \u001b[0mcosts\u001b[0m\u001b[0;34m,\u001b[0m \u001b[0mlabel\u001b[0m \u001b[0;34m=\u001b[0m \u001b[0;34m\"training\"\u001b[0m\u001b[0;34m)\u001b[0m\u001b[0;34m\u001b[0m\u001b[0;34m\u001b[0m\u001b[0m\n\u001b[0m\u001b[1;32m     32\u001b[0m   \u001b[0mplt\u001b[0m\u001b[0;34m.\u001b[0m\u001b[0mplot\u001b[0m\u001b[0;34m(\u001b[0m\u001b[0mx\u001b[0m\u001b[0;34m,\u001b[0m \u001b[0mtest_costs\u001b[0m\u001b[0;34m,\u001b[0m \u001b[0mlabel\u001b[0m \u001b[0;34m=\u001b[0m \u001b[0;34m\"testing\"\u001b[0m\u001b[0;34m)\u001b[0m\u001b[0;34m\u001b[0m\u001b[0;34m\u001b[0m\u001b[0m\n\u001b[1;32m     33\u001b[0m   \u001b[0mplt\u001b[0m\u001b[0;34m.\u001b[0m\u001b[0mlegend\u001b[0m\u001b[0;34m(\u001b[0m\u001b[0;34m)\u001b[0m\u001b[0;34m\u001b[0m\u001b[0;34m\u001b[0m\u001b[0m\n",
      "\u001b[0;32m~/anaconda3/lib/python3.7/site-packages/matplotlib/pyplot.py\u001b[0m in \u001b[0;36mplot\u001b[0;34m(scalex, scaley, data, *args, **kwargs)\u001b[0m\n\u001b[1;32m   2794\u001b[0m     return gca().plot(\n\u001b[1;32m   2795\u001b[0m         *args, scalex=scalex, scaley=scaley, **({\"data\": data} if data\n\u001b[0;32m-> 2796\u001b[0;31m         is not None else {}), **kwargs)\n\u001b[0m\u001b[1;32m   2797\u001b[0m \u001b[0;34m\u001b[0m\u001b[0m\n\u001b[1;32m   2798\u001b[0m \u001b[0;34m\u001b[0m\u001b[0m\n",
      "\u001b[0;32m~/anaconda3/lib/python3.7/site-packages/matplotlib/axes/_axes.py\u001b[0m in \u001b[0;36mplot\u001b[0;34m(self, scalex, scaley, data, *args, **kwargs)\u001b[0m\n\u001b[1;32m   1663\u001b[0m         \"\"\"\n\u001b[1;32m   1664\u001b[0m         \u001b[0mkwargs\u001b[0m \u001b[0;34m=\u001b[0m \u001b[0mcbook\u001b[0m\u001b[0;34m.\u001b[0m\u001b[0mnormalize_kwargs\u001b[0m\u001b[0;34m(\u001b[0m\u001b[0mkwargs\u001b[0m\u001b[0;34m,\u001b[0m \u001b[0mmlines\u001b[0m\u001b[0;34m.\u001b[0m\u001b[0mLine2D\u001b[0m\u001b[0;34m.\u001b[0m\u001b[0m_alias_map\u001b[0m\u001b[0;34m)\u001b[0m\u001b[0;34m\u001b[0m\u001b[0;34m\u001b[0m\u001b[0m\n\u001b[0;32m-> 1665\u001b[0;31m         \u001b[0mlines\u001b[0m \u001b[0;34m=\u001b[0m \u001b[0;34m[\u001b[0m\u001b[0;34m*\u001b[0m\u001b[0mself\u001b[0m\u001b[0;34m.\u001b[0m\u001b[0m_get_lines\u001b[0m\u001b[0;34m(\u001b[0m\u001b[0;34m*\u001b[0m\u001b[0margs\u001b[0m\u001b[0;34m,\u001b[0m \u001b[0mdata\u001b[0m\u001b[0;34m=\u001b[0m\u001b[0mdata\u001b[0m\u001b[0;34m,\u001b[0m \u001b[0;34m**\u001b[0m\u001b[0mkwargs\u001b[0m\u001b[0;34m)\u001b[0m\u001b[0;34m]\u001b[0m\u001b[0;34m\u001b[0m\u001b[0;34m\u001b[0m\u001b[0m\n\u001b[0m\u001b[1;32m   1666\u001b[0m         \u001b[0;32mfor\u001b[0m \u001b[0mline\u001b[0m \u001b[0;32min\u001b[0m \u001b[0mlines\u001b[0m\u001b[0;34m:\u001b[0m\u001b[0;34m\u001b[0m\u001b[0;34m\u001b[0m\u001b[0m\n\u001b[1;32m   1667\u001b[0m             \u001b[0mself\u001b[0m\u001b[0;34m.\u001b[0m\u001b[0madd_line\u001b[0m\u001b[0;34m(\u001b[0m\u001b[0mline\u001b[0m\u001b[0;34m)\u001b[0m\u001b[0;34m\u001b[0m\u001b[0;34m\u001b[0m\u001b[0m\n",
      "\u001b[0;32m~/anaconda3/lib/python3.7/site-packages/matplotlib/axes/_base.py\u001b[0m in \u001b[0;36m__call__\u001b[0;34m(self, *args, **kwargs)\u001b[0m\n\u001b[1;32m    223\u001b[0m                 \u001b[0mthis\u001b[0m \u001b[0;34m+=\u001b[0m \u001b[0margs\u001b[0m\u001b[0;34m[\u001b[0m\u001b[0;36m0\u001b[0m\u001b[0;34m]\u001b[0m\u001b[0;34m,\u001b[0m\u001b[0;34m\u001b[0m\u001b[0;34m\u001b[0m\u001b[0m\n\u001b[1;32m    224\u001b[0m                 \u001b[0margs\u001b[0m \u001b[0;34m=\u001b[0m \u001b[0margs\u001b[0m\u001b[0;34m[\u001b[0m\u001b[0;36m1\u001b[0m\u001b[0;34m:\u001b[0m\u001b[0;34m]\u001b[0m\u001b[0;34m\u001b[0m\u001b[0;34m\u001b[0m\u001b[0m\n\u001b[0;32m--> 225\u001b[0;31m             \u001b[0;32myield\u001b[0m \u001b[0;32mfrom\u001b[0m \u001b[0mself\u001b[0m\u001b[0;34m.\u001b[0m\u001b[0m_plot_args\u001b[0m\u001b[0;34m(\u001b[0m\u001b[0mthis\u001b[0m\u001b[0;34m,\u001b[0m \u001b[0mkwargs\u001b[0m\u001b[0;34m)\u001b[0m\u001b[0;34m\u001b[0m\u001b[0;34m\u001b[0m\u001b[0m\n\u001b[0m\u001b[1;32m    226\u001b[0m \u001b[0;34m\u001b[0m\u001b[0m\n\u001b[1;32m    227\u001b[0m     \u001b[0;32mdef\u001b[0m \u001b[0mget_next_color\u001b[0m\u001b[0;34m(\u001b[0m\u001b[0mself\u001b[0m\u001b[0;34m)\u001b[0m\u001b[0;34m:\u001b[0m\u001b[0;34m\u001b[0m\u001b[0;34m\u001b[0m\u001b[0m\n",
      "\u001b[0;32m~/anaconda3/lib/python3.7/site-packages/matplotlib/axes/_base.py\u001b[0m in \u001b[0;36m_plot_args\u001b[0;34m(self, tup, kwargs)\u001b[0m\n\u001b[1;32m    389\u001b[0m             \u001b[0mx\u001b[0m\u001b[0;34m,\u001b[0m \u001b[0my\u001b[0m \u001b[0;34m=\u001b[0m \u001b[0mindex_of\u001b[0m\u001b[0;34m(\u001b[0m\u001b[0mtup\u001b[0m\u001b[0;34m[\u001b[0m\u001b[0;34m-\u001b[0m\u001b[0;36m1\u001b[0m\u001b[0;34m]\u001b[0m\u001b[0;34m)\u001b[0m\u001b[0;34m\u001b[0m\u001b[0;34m\u001b[0m\u001b[0m\n\u001b[1;32m    390\u001b[0m \u001b[0;34m\u001b[0m\u001b[0m\n\u001b[0;32m--> 391\u001b[0;31m         \u001b[0mx\u001b[0m\u001b[0;34m,\u001b[0m \u001b[0my\u001b[0m \u001b[0;34m=\u001b[0m \u001b[0mself\u001b[0m\u001b[0;34m.\u001b[0m\u001b[0m_xy_from_xy\u001b[0m\u001b[0;34m(\u001b[0m\u001b[0mx\u001b[0m\u001b[0;34m,\u001b[0m \u001b[0my\u001b[0m\u001b[0;34m)\u001b[0m\u001b[0;34m\u001b[0m\u001b[0;34m\u001b[0m\u001b[0m\n\u001b[0m\u001b[1;32m    392\u001b[0m \u001b[0;34m\u001b[0m\u001b[0m\n\u001b[1;32m    393\u001b[0m         \u001b[0;32mif\u001b[0m \u001b[0mself\u001b[0m\u001b[0;34m.\u001b[0m\u001b[0mcommand\u001b[0m \u001b[0;34m==\u001b[0m \u001b[0;34m'plot'\u001b[0m\u001b[0;34m:\u001b[0m\u001b[0;34m\u001b[0m\u001b[0;34m\u001b[0m\u001b[0m\n",
      "\u001b[0;32m~/anaconda3/lib/python3.7/site-packages/matplotlib/axes/_base.py\u001b[0m in \u001b[0;36m_xy_from_xy\u001b[0;34m(self, x, y)\u001b[0m\n\u001b[1;32m    268\u001b[0m         \u001b[0;32mif\u001b[0m \u001b[0mx\u001b[0m\u001b[0;34m.\u001b[0m\u001b[0mshape\u001b[0m\u001b[0;34m[\u001b[0m\u001b[0;36m0\u001b[0m\u001b[0;34m]\u001b[0m \u001b[0;34m!=\u001b[0m \u001b[0my\u001b[0m\u001b[0;34m.\u001b[0m\u001b[0mshape\u001b[0m\u001b[0;34m[\u001b[0m\u001b[0;36m0\u001b[0m\u001b[0;34m]\u001b[0m\u001b[0;34m:\u001b[0m\u001b[0;34m\u001b[0m\u001b[0;34m\u001b[0m\u001b[0m\n\u001b[1;32m    269\u001b[0m             raise ValueError(\"x and y must have same first dimension, but \"\n\u001b[0;32m--> 270\u001b[0;31m                              \"have shapes {} and {}\".format(x.shape, y.shape))\n\u001b[0m\u001b[1;32m    271\u001b[0m         \u001b[0;32mif\u001b[0m \u001b[0mx\u001b[0m\u001b[0;34m.\u001b[0m\u001b[0mndim\u001b[0m \u001b[0;34m>\u001b[0m \u001b[0;36m2\u001b[0m \u001b[0;32mor\u001b[0m \u001b[0my\u001b[0m\u001b[0;34m.\u001b[0m\u001b[0mndim\u001b[0m \u001b[0;34m>\u001b[0m \u001b[0;36m2\u001b[0m\u001b[0;34m:\u001b[0m\u001b[0;34m\u001b[0m\u001b[0;34m\u001b[0m\u001b[0m\n\u001b[1;32m    272\u001b[0m             raise ValueError(\"x and y can be no greater than 2-D, but have \"\n",
      "\u001b[0;31mValueError\u001b[0m: x and y must have same first dimension, but have shapes (30,) and (300,)"
     ]
    },
    {
     "data": {
      "image/png": "[encoded data removed]",
      "text/plain": [
       "<Figure size 432x288 with 1 Axes>"
      ]
     },
     "metadata": {
      "needs_background": "light"
     },
     "output_type": "display_data"
    }
   ],
   "source": [
    "# Linear training \n",
    "iter = 150000\n",
    "seed = 10\n",
    "x_train_linear, y_train_linear = generate_linear(100, seed)\n",
    "parameters_linear, costs_linear, accs_linear, test_costs_linear, test_accs_linear = model(x_train_linear, y_train_linear, 10, 10, iter=iter, lr=0.01, linear=True)\n",
    "*_, y_pred_linear = forward(x_train_linear, parameters_linear)\n",
    "# print(y_pred_linear)\n",
    "show_result(x_train_linear, y_train_linear, y_pred_linear)\n",
    "plot_loss(iter, 5000, costs_linear, test_costs_linear)\n",
    "plot_acc(iter, 5000, accs_linear, test_accs_linear)"
   ]
  },
  {
   "cell_type": "code",
   "execution_count": 43,
   "metadata": {
    "colab": {
     "background_save": true,
     "base_uri": "https://localhost:8080/"
    },
    "id": "6ERtWbyioc1P"
   },
   "outputs": [
    {
     "name": "stdout",
     "output_type": "stream",
     "text": [
      "epoch 0 training loss : 1.617000739322501 acc : 0.23809523809523808, testing loss : 9.301644541093335 acc : 0.08196721311475409\n"
     ]
    },
    {
     "data": {
      "image/png": "[encoded data removed]",
      "text/plain": [
       "<Figure size 720x360 with 2 Axes>"
      ]
     },
     "metadata": {
      "needs_background": "light"
     },
     "output_type": "display_data"
    },
    {
     "data": {
      "image/png": "[encoded data removed]",
      "text/plain": [
       "<Figure size 432x288 with 1 Axes>"
      ]
     },
     "metadata": {
      "needs_background": "light"
     },
     "output_type": "display_data"
    },
    {
     "data": {
      "image/png": "[encoded data removed]",
      "text/plain": [
       "<Figure size 360x360 with 1 Axes>"
      ]
     },
     "metadata": {
      "needs_background": "light"
     },
     "output_type": "display_data"
    }
   ],
   "source": [
    "iter = 300000\n",
    "seed = 10\n",
    "x_train_xor, y_train_xor = generate_XOR_easy(10)\n",
    "parameters_xor, costs_xor, accs_xor, test_costs_xor, test_accs_xor = model(x_train_xor, y_train_xor, 10, 10, iter=iter, lr=0.01, xor=True)\n",
    "*_, y_pred_xor = forward(x_train_xor, parameters_xor)\n",
    "# print(y_pred_linear)\n",
    "show_result(x_train_xor, y_train_xor, y_pred_xor)\n",
    "plot_loss(iter, 5000, costs_xor, test_costs_xor)\n",
    "plot_acc(iter, 5000, accs_xor, test_accs_xor)"
   ]
  },
  {
   "cell_type": "code",
   "execution_count": null,
   "metadata": {
    "colab": {
     "base_uri": "https://localhost:8080/"
    },
    "executionInfo": {
     "elapsed": 29,
     "status": "ok",
     "timestamp": 1626407259379,
     "user": {
      "displayName": "冠儒陳",
      "photoUrl": "",
      "userId": "07521408373817625043"
     },
     "user_tz": -480
    },
    "id": "5mV4KcY3LEOT",
    "outputId": "cb1ccaef-609d-4fb9-8529-59ef5e53c873"
   },
   "outputs": [],
   "source": [
    "# linear test\n",
    "seed = np.random.randint(low=0, high=10000, size=1)\n",
    "x_test, y_test = generate_linear(1000, seed)\n",
    "*_, y_pred = forward(x_test, parameters_linear)\n",
    "print(\"acc:\", accuracy(x_test, y_test, y_pred))\n",
    "# show_result(x_test, y_test, y_pred)"
   ]
  },
  {
   "cell_type": "code",
   "execution_count": null,
   "metadata": {
    "colab": {
     "base_uri": "https://localhost:8080/",
     "height": 387
    },
    "executionInfo": {
     "elapsed": 1121,
     "status": "ok",
     "timestamp": 1626407260480,
     "user": {
      "displayName": "冠儒陳",
      "photoUrl": "",
      "userId": "07521408373817625043"
     },
     "user_tz": -480
    },
    "id": "uY6bbh_VKUMc",
    "outputId": "a8bac5f7-8b84-4db1-c972-681fe7fac90f"
   },
   "outputs": [],
   "source": [
    "# xor test\n",
    "x_test, y_test = generate_XOR_easy(100)\n",
    "*_, y_pred = forward(x_test, parameters_xor)\n",
    "print(\"acc:\", accuracy(x_test, y_test, y_pred))\n",
    "show_result(x_test, y_test, y_pred)"
   ]
  }
 ],
 "metadata": {
  "colab": {
   "collapsed_sections": [],
   "name": "Lab1_main_discuss.ipynb",
   "version": ""
  },
  "kernelspec": {
   "display_name": "Python 3",
   "language": "python",
   "name": "python3"
  },
  "language_info": {
   "codemirror_mode": {
    "name": "ipython",
    "version": 3
   },
   "file_extension": ".py",
   "mimetype": "text/x-python",
   "name": "python",
   "nbconvert_exporter": "python",
   "pygments_lexer": "ipython3",
   "version": "3.7.6"
  }
 },
 "nbformat": 4,
 "nbformat_minor": 1
}
