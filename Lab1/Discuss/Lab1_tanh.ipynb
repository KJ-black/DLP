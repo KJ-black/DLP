{
 "cells": [
  {
   "cell_type": "markdown",
   "metadata": {
    "id": "qcWxx60ANiwc"
   },
   "source": [
    "# Lab1 - Back Propagation\n",
    "\n",
    "建造一個具有兩層hidden layers的model，並計算forward和backward propagation，來預測Linear和XOR dataset。"
   ]
  },
  {
   "cell_type": "code",
   "execution_count": 3,
   "metadata": {
    "id": "Yzhktva5p0QX"
   },
   "outputs": [],
   "source": [
    "import numpy as np\n",
    "import matplotlib.pyplot as plt\n",
    "np.set_printoptions(suppress=True) # don't use scientific notation"
   ]
  },
  {
   "cell_type": "markdown",
   "metadata": {
    "id": "crHKbPn1Nsie"
   },
   "source": [
    "### Dataset generation\n",
    "\n",
    "x: shape = (number of data, input dimension)<br>\n",
    "y: shape = (number of data, label)\n",
    "\n",
    "- linear:\n",
    "  - label = 0, x1 > x2 which falls on the bottom-right side.\n",
    "  - label = 1, x1 < x2 which falls on the upper-left side.\n",
    "\n",
    "- XOR:\n",
    "  - label = 0, x2 = x1\n",
    "  - label = 1, x2 = 1 - x1"
   ]
  },
  {
   "cell_type": "code",
   "execution_count": 4,
   "metadata": {
    "id": "SaHbm2awxLNQ"
   },
   "outputs": [],
   "source": [
    "def generate_linear(n=100, seed=10):\n",
    "  np.random.seed(seed)\n",
    "  pts = np.random.uniform(0, 1, (n, 2))\n",
    "  inputs = []\n",
    "  labels = []\n",
    "  for pt in pts:\n",
    "    inputs.append([pt[0], pt[1]])\n",
    "    distance = (pt[0]-pt[1])/1.414\n",
    "    if pt[0] > pt[1]:\n",
    "      labels.append(0)\n",
    "    else:\n",
    "      labels.append(1)\n",
    "\n",
    "  return np.array(inputs), np.array(labels).reshape(n, 1)"
   ]
  },
  {
   "cell_type": "code",
   "execution_count": 5,
   "metadata": {
    "id": "RX9XJ6j11S3n"
   },
   "outputs": [],
   "source": [
    "def generate_XOR_easy(n=10):\n",
    "  inputs = []\n",
    "  labels = []\n",
    "  for i in range(n+1):\n",
    "    inputs.append([0.1*i, 0.1*i])\n",
    "    labels.append(0)\n",
    "  \n",
    "    if 0.1*i == 0.5:\n",
    "      continue\n",
    "    \n",
    "    inputs.append([0.1*i, 1-0.1*i])\n",
    "    labels.append(1)\n",
    "\n",
    "  return np.array(inputs), np.array(labels).reshape(2*n+1, 1)"
   ]
  },
  {
   "cell_type": "markdown",
   "metadata": {
    "id": "mRphkGnk6YKD"
   },
   "source": [
    "## Activation Function\n",
    "\n",
    "### Sigmoid\n",
    "$$ \\sigma = \\frac{1}{1+e^{-x}} $$\n",
    "\n",
    "$$ \\frac{\\partial\\sigma}{\\partial x} = \\sigma(x)(1-\\sigma(x))   $$"
   ]
  },
  {
   "cell_type": "code",
   "execution_count": 6,
   "metadata": {
    "id": "28hSXl1y3j4E"
   },
   "outputs": [],
   "source": [
    "def sigmoid(x):\n",
    "  return 1.0/(1.0 + np.exp(-x))\n",
    "\n",
    "def derivative_sigmoid(x):\n",
    "  return np.multiply(sigmoid(x), 1-sigmoid(x))"
   ]
  },
  {
   "cell_type": "code",
   "execution_count": 7,
   "metadata": {},
   "outputs": [],
   "source": [
    "def tanh(x):\n",
    "    return np.tanh(x)\n",
    "    \n",
    "def derivative_tanh(x):\n",
    "    return np.power(1./np.cosh(x), 2)"
   ]
  },
  {
   "cell_type": "markdown",
   "metadata": {
    "id": "0DatK0ve489I"
   },
   "source": [
    "## Neural Network Model"
   ]
  },
  {
   "cell_type": "code",
   "execution_count": 8,
   "metadata": {
    "id": "c58dy600Eg7J"
   },
   "outputs": [],
   "source": [
    "def init_parameter(nx, nh1, nh2, ny):\n",
    "  w1 = np.random.randn(nx, nh1)\n",
    "  # b1 = np.zeros([100, 1]) \n",
    "  w2 = np.random.randn(nh1, nh2)\n",
    "  # b2 = np.zeros([100, 1]) \n",
    "  w3 = np.random.randn(nh2, ny)\n",
    "  # b3 = np.zeros([100, 1])\n",
    "\n",
    "  return w1, w2, w3\n",
    "\n",
    "# init_parameter(2, 10, 10, 1)"
   ]
  },
  {
   "cell_type": "code",
   "execution_count": 9,
   "metadata": {
    "id": "ZK69fQ-fGebn"
   },
   "outputs": [],
   "source": [
    "def forward(x, parameters):\n",
    "  w1, w2, w3 = parameters\n",
    "\n",
    "  z1 = np.dot(x, w1)\n",
    "  a1 = tanh(z1)\n",
    "  z2 = np.dot(a1, w2)\n",
    "  a2 = tanh(z2)\n",
    "  z3 = np.dot(a2, w3)\n",
    "  a3 = sigmoid(z3)\n",
    "\n",
    "  return z1, a1, z2, a2, z3, a3"
   ]
  },
  {
   "cell_type": "code",
   "execution_count": 10,
   "metadata": {
    "id": "n8nBg-WYHP6B"
   },
   "outputs": [],
   "source": [
    "def loss_func(y, y_pred):\n",
    "  m = y.shape[0]\n",
    "  cost_sum = np.multiply(np.log(y_pred), y) + np.multiply((1 - y), np.log(1 - y_pred))\n",
    "  cost = - np.sum(cost_sum) / m\n",
    "  cost = np.squeeze(cost)\n",
    "  return cost"
   ]
  },
  {
   "cell_type": "code",
   "execution_count": 11,
   "metadata": {
    "id": "zl2cqAz1QibL"
   },
   "outputs": [],
   "source": [
    "def backward(parameters, neural, x, y):\n",
    "  m = y.shape[0]\n",
    "  w1, w2, w3 = parameters\n",
    "  z1, a1, z2, a2, z3, a3 = neural\n",
    "\n",
    "  # output to hidden layer 2\n",
    "  da3 = - np.divide(y, a3) + np.divide(1-y, 1-a3)\n",
    "  dz3 = da3 * derivative_sigmoid(z3)\n",
    "  dw3 = 1/m * np.dot(a2.T, dz3)\n",
    "\n",
    "  # hidden layer 2 to hidden layer 1\n",
    "  da2 = np.dot(dz3, w3.T)\n",
    "  dz2 = da2 * derivative_tanh(z2)\n",
    "  dw2 = 1/m * np.dot(a1.T, dz2)\n",
    "  \n",
    "  # hidden layer 1 to input\n",
    "  da1 = np.dot(dz2, w2.T)\n",
    "  dz1 = da1 * derivative_tanh(z1)\n",
    "  dw1 = 1/m * np.dot(x.T, dz1)\n",
    "\n",
    "  return dw1, dw2, dw3"
   ]
  },
  {
   "cell_type": "code",
   "execution_count": 12,
   "metadata": {
    "id": "n5aT02PI6tre"
   },
   "outputs": [],
   "source": [
    "def update_parameters(parameters, gradients, lr=0.01):\n",
    "  dw1, dw2, dw3 = gradients\n",
    "  w1, w2, w3 = parameters\n",
    "\n",
    "  w1 = w1 - lr*dw1\n",
    "  w2 = w2 - lr*dw2\n",
    "  w3 = w3 - lr*dw3\n",
    "\n",
    "  return w1, w2, w3"
   ]
  },
  {
   "cell_type": "code",
   "execution_count": 13,
   "metadata": {
    "id": "VCDrcksHqmVr"
   },
   "outputs": [],
   "source": [
    "def accuracy(x, y, y_pred):\n",
    "  correct = 0\n",
    "  for i in range(y.shape[0]):\n",
    "    if y_pred[i,:] < 0.5 and y[i]==0:\n",
    "      correct += 1\n",
    "    elif y_pred[i,:] > 0.5 and y[i]==1:\n",
    "      correct += 1\n",
    "  return correct / y_pred.shape[0]"
   ]
  },
  {
   "cell_type": "code",
   "execution_count": 14,
   "metadata": {
    "id": "jDyZHKv87PIp"
   },
   "outputs": [],
   "source": [
    "def model(x, y, nh1, nh2, iter=10000, lr=0.01, linear=False, xor=False):\n",
    "    costs = []\n",
    "    accs = []\n",
    "    test_costs = []\n",
    "    test_accs = []\n",
    "    nx = x.shape[1]\n",
    "    ny = y.shape[1]\n",
    "\n",
    "    # init parameters\n",
    "    parameters = init_parameter(nx, nh1, nh2, ny)\n",
    "    for i in range(iter):\n",
    "        neural = forward(x, parameters)\n",
    "        cost = loss_func(y, neural[5])\n",
    "        gradients = backward(parameters, neural, x, y)\n",
    "        parameters = update_parameters(parameters, gradients, lr)\n",
    "\n",
    "        if i % 500 == 0:\n",
    "            *_, y_pred = forward(x, parameters)\n",
    "            acc = accuracy(x, y, y_pred)\n",
    "\n",
    "            # testing\n",
    "            seed = np.random.randint(low=0, high=10000, size=1)\n",
    "            if linear:\n",
    "                x_test, y_test = generate_linear(100, seed)\n",
    "            elif xor:\n",
    "                x_test, y_test = generate_XOR_easy(20)\n",
    "            *_, y_pred = forward(x_test, parameters)\n",
    "            test_cost = loss_func(y_test, y_pred)\n",
    "            test_acc = accuracy(x_test, y_test, y_pred)\n",
    "            costs.append(cost)\n",
    "            test_costs.append(test_cost)\n",
    "            accs.append(acc)\n",
    "            test_accs.append(test_acc)\n",
    "            print(\"epoch {} training loss : {} acc : {}, testing loss : {} acc : {}\".format(i, cost, acc, test_cost, test_acc))\n",
    "\n",
    "    return parameters, costs, accs, test_costs, test_accs"
   ]
  },
  {
   "cell_type": "code",
   "execution_count": 15,
   "metadata": {
    "id": "Ug9qWeRaurOM"
   },
   "outputs": [],
   "source": [
    "def show_result(x, y, pred_y):\n",
    "  plt.figure(figsize=(10, 5))\n",
    "  plt.subplot(1, 2, 1)\n",
    "  plt.title('Ground truth', fontsize=18)\n",
    "  plt.xlabel(\"x1\", fontsize=12)\n",
    "  plt.ylabel(\"x2\", fontsize=12)\n",
    "  for i in range(x.shape[0]):\n",
    "    if y[i] == 0:\n",
    "      plt.plot(x[i][0], x[i][1], 'ro')\n",
    "    else:\n",
    "      plt.plot(x[i][0], x[i][1], 'bo')\n",
    "\n",
    "  plt.subplot(1, 2, 2)\n",
    "  plt.title('Predict result', fontsize=18)\n",
    "  plt.xlabel(\"x1\", fontsize=12)\n",
    "  plt.ylabel(\"x2\", fontsize=12)\n",
    "  for i in range(x.shape[0]):\n",
    "    if pred_y[i,:] < 0.5:\n",
    "      plt.plot(x[i][0], x[i][1], 'ro')\n",
    "    else:\n",
    "      plt.plot(x[i][0], x[i][1], 'bo')\n",
    "  plt.tight_layout()\n",
    "  plt.show()\n",
    "  \n",
    "def plot_loss(iter, step, costs, test_costs):\n",
    "  plt.title('Learning Curve', fontsize=18)  \n",
    "  plt.xlabel(\"Epoch\", fontsize=12)\n",
    "  plt.ylabel(\"Loss\", fontsize=12)\n",
    "  x = np.arange(0, iter, step)\n",
    "  plt.plot(x, costs, label = \"training\")\n",
    "  plt.plot(x, test_costs, label = \"testing\")\n",
    "  plt.legend()\n",
    "  plt.tight_layout()\n",
    "  plt.show()\n",
    "\n",
    "\n",
    "def plot_acc(iter, step, accs, test_accs):\n",
    "  plt.figure(figsize=(5, 5))\n",
    "  plt.title(\"Accuracy\", fontsize=18)\n",
    "  plt.xlabel(\"Epoch\", fontsize=12)\n",
    "  plt.ylabel(\"Accuracy\", fontsize=12)\n",
    "  x = np.arange(0, iter, step)\n",
    "  plt.plot(x, accs, label = \"training\")\n",
    "  plt.plot(x, test_accs, label = \"testing\")\n",
    "  plt.legend()\n",
    "  plt.tight_layout()\n",
    "  plt.show()"
   ]
  },
  {
   "cell_type": "code",
   "execution_count": 16,
   "metadata": {
    "colab": {
     "base_uri": "https://localhost:8080/",
     "height": 1000
    },
    "id": "46lu3Rjr9gWM",
    "outputId": "4149386c-5db9-4ea5-db97-8c6dce2de8c9"
   },
   "outputs": [
    {
     "name": "stdout",
     "output_type": "stream",
     "text": [
      "epoch 0 training loss : 1.2796583109616086 acc : 0.42, testing loss : 1.1371019913855915 acc : 0.5\n",
      "epoch 500 training loss : 0.27328821859394387 acc : 0.98, testing loss : 0.27610519181377957 acc : 0.98\n",
      "epoch 1000 training loss : 0.14486823017093955 acc : 0.99, testing loss : 0.21139793599983825 acc : 0.97\n",
      "epoch 1500 training loss : 0.10219183112988008 acc : 0.99, testing loss : 0.11781211894214474 acc : 0.99\n",
      "epoch 2000 training loss : 0.08092963318472933 acc : 1.0, testing loss : 0.082844793841809 acc : 1.0\n",
      "epoch 2500 training loss : 0.06788370494138053 acc : 1.0, testing loss : 0.0817639247104133 acc : 1.0\n",
      "epoch 3000 training loss : 0.05891065400909044 acc : 1.0, testing loss : 0.04636651656334816 acc : 1.0\n",
      "epoch 3500 training loss : 0.05228570068476483 acc : 1.0, testing loss : 0.06675328904337793 acc : 0.99\n",
      "epoch 4000 training loss : 0.047155563255148115 acc : 1.0, testing loss : 0.04707301461026361 acc : 1.0\n",
      "epoch 4500 training loss : 0.04304603453669067 acc : 1.0, testing loss : 0.03226668988343759 acc : 0.99\n",
      "epoch 5000 training loss : 0.03967009865517608 acc : 1.0, testing loss : 0.04512507646279804 acc : 0.99\n",
      "epoch 5500 training loss : 0.036842110167906034 acc : 1.0, testing loss : 0.05092084144846816 acc : 0.98\n",
      "epoch 6000 training loss : 0.0344354539190782 acc : 1.0, testing loss : 0.024987673934337012 acc : 1.0\n",
      "epoch 6500 training loss : 0.032360086192703995 acc : 1.0, testing loss : 0.06311071316389719 acc : 0.97\n",
      "epoch 7000 training loss : 0.03054989711651551 acc : 1.0, testing loss : 0.045762055801575795 acc : 0.99\n",
      "epoch 7500 training loss : 0.028955186155565166 acc : 1.0, testing loss : 0.045749539115042585 acc : 0.99\n",
      "epoch 8000 training loss : 0.027537914874104678 acc : 1.0, testing loss : 0.04383231477402414 acc : 0.98\n",
      "epoch 8500 training loss : 0.026268545542501735 acc : 1.0, testing loss : 0.02075901201275701 acc : 1.0\n",
      "epoch 9000 training loss : 0.02512384479899687 acc : 1.0, testing loss : 0.044482232936465894 acc : 1.0\n",
      "epoch 9500 training loss : 0.024085314582864132 acc : 1.0, testing loss : 0.02025314363353422 acc : 0.99\n",
      "epoch 10000 training loss : 0.02313805243880334 acc : 1.0, testing loss : 0.011074515470361514 acc : 1.0\n",
      "epoch 10500 training loss : 0.022269915132252675 acc : 1.0, testing loss : 0.03463950380377925 acc : 0.98\n",
      "epoch 11000 training loss : 0.02147089991610811 acc : 1.0, testing loss : 0.034072853278179285 acc : 0.98\n",
      "epoch 11500 training loss : 0.020732683129560357 acc : 1.0, testing loss : 0.05017713282526541 acc : 0.98\n",
      "epoch 12000 training loss : 0.020048273048249937 acc : 1.0, testing loss : 0.07478050146752105 acc : 0.98\n",
      "epoch 12500 training loss : 0.019411746105537718 acc : 1.0, testing loss : 0.039936260042675226 acc : 0.98\n",
      "epoch 13000 training loss : 0.01881804433702629 acc : 1.0, testing loss : 0.03249367491313579 acc : 0.99\n",
      "epoch 13500 training loss : 0.018262818142761247 acc : 1.0, testing loss : 0.029193432190288356 acc : 0.99\n",
      "epoch 14000 training loss : 0.017742302905748453 acc : 1.0, testing loss : 0.02365281697839777 acc : 1.0\n",
      "epoch 14500 training loss : 0.01725322116119379 acc : 1.0, testing loss : 0.02364843445255274 acc : 0.99\n",
      "epoch 15000 training loss : 0.0167927042522047 acc : 1.0, testing loss : 0.023972938077559888 acc : 0.99\n",
      "epoch 15500 training loss : 0.016358229004508024 acc : 1.0, testing loss : 0.018990790104058596 acc : 0.99\n",
      "epoch 16000 training loss : 0.015947566096718217 acc : 1.0, testing loss : 0.06460381624845522 acc : 0.98\n",
      "epoch 16500 training loss : 0.015558737628371077 acc : 1.0, testing loss : 0.047730219964006164 acc : 0.98\n",
      "epoch 17000 training loss : 0.015189981989111145 acc : 1.0, testing loss : 0.03060510243012278 acc : 0.99\n",
      "epoch 17500 training loss : 0.014839724574319271 acc : 1.0, testing loss : 0.019422585096205 acc : 1.0\n",
      "epoch 18000 training loss : 0.014506553220526045 acc : 1.0, testing loss : 0.03984638597801602 acc : 0.99\n",
      "epoch 18500 training loss : 0.01418919747994442 acc : 1.0, testing loss : 0.02875030705317394 acc : 0.99\n",
      "epoch 19000 training loss : 0.013886511039721106 acc : 1.0, testing loss : 0.028229349766813988 acc : 0.99\n",
      "epoch 19500 training loss : 0.01359745673389676 acc : 1.0, testing loss : 0.03558364588616095 acc : 0.98\n",
      "epoch 20000 training loss : 0.013321093705904794 acc : 1.0, testing loss : 0.03725022864500753 acc : 0.98\n",
      "epoch 20500 training loss : 0.013056566364901436 acc : 1.0, testing loss : 0.01616481160116043 acc : 1.0\n",
      "epoch 21000 training loss : 0.01280309484625363 acc : 1.0, testing loss : 0.021964679726308806 acc : 1.0\n",
      "epoch 21500 training loss : 0.012559966739491588 acc : 1.0, testing loss : 0.038371629823377204 acc : 0.99\n",
      "epoch 22000 training loss : 0.01232652988920762 acc : 1.0, testing loss : 0.06886592132941552 acc : 0.98\n",
      "epoch 22500 training loss : 0.012102186108173823 acc : 1.0, testing loss : 0.08554894181258607 acc : 0.95\n",
      "epoch 23000 training loss : 0.011886385669201078 acc : 1.0, testing loss : 0.036873751571228464 acc : 0.98\n",
      "epoch 23500 training loss : 0.011678622464361264 acc : 1.0, testing loss : 0.004428288974497885 acc : 1.0\n",
      "epoch 24000 training loss : 0.011478429738217248 acc : 1.0, testing loss : 0.060703069364935275 acc : 0.97\n",
      "epoch 24500 training loss : 0.011285376316478453 acc : 1.0, testing loss : 0.03718745674161442 acc : 0.99\n",
      "epoch 25000 training loss : 0.011099063263670519 acc : 1.0, testing loss : 0.01740166233824645 acc : 0.99\n",
      "epoch 25500 training loss : 0.010919120913476741 acc : 1.0, testing loss : 0.04924666128716197 acc : 0.98\n",
      "epoch 26000 training loss : 0.010745206223780083 acc : 1.0, testing loss : 0.02554538574173074 acc : 1.0\n",
      "epoch 26500 training loss : 0.010577000415419256 acc : 1.0, testing loss : 0.05373324129385454 acc : 0.98\n",
      "epoch 27000 training loss : 0.010414206859525718 acc : 1.0, testing loss : 0.032843602769505965 acc : 0.99\n",
      "epoch 27500 training loss : 0.010256549183229362 acc : 1.0, testing loss : 0.024221413915797133 acc : 0.99\n",
      "epoch 28000 training loss : 0.010103769567675907 acc : 1.0, testing loss : 0.045824229695164594 acc : 0.99\n",
      "epoch 28500 training loss : 0.009955627215816241 acc : 1.0, testing loss : 0.034521376934668425 acc : 0.97\n",
      "epoch 29000 training loss : 0.009811896970417391 acc : 1.0, testing loss : 0.05808032225190437 acc : 0.98\n",
      "epoch 29500 training loss : 0.009672368065291446 acc : 1.0, testing loss : 0.030701626655679132 acc : 0.99\n",
      "epoch 30000 training loss : 0.009536842994917789 acc : 1.0, testing loss : 0.016022203800529097 acc : 1.0\n",
      "epoch 30500 training loss : 0.009405136489499328 acc : 1.0, testing loss : 0.006002397536084795 acc : 1.0\n",
      "epoch 31000 training loss : 0.009277074584099702 acc : 1.0, testing loss : 0.039740523757714995 acc : 0.98\n",
      "epoch 31500 training loss : 0.009152493771891009 acc : 1.0, testing loss : 0.021406801744502522 acc : 0.99\n",
      "epoch 32000 training loss : 0.009031240232737683 acc : 1.0, testing loss : 0.008588139747354622 acc : 1.0\n",
      "epoch 32500 training loss : 0.00891316912937779 acc : 1.0, testing loss : 0.015846545790167244 acc : 1.0\n",
      "epoch 33000 training loss : 0.008798143964361838 acc : 1.0, testing loss : 0.033890541518714096 acc : 0.99\n",
      "epoch 33500 training loss : 0.008686035991693632 acc : 1.0, testing loss : 0.01453082764883588 acc : 1.0\n",
      "epoch 34000 training loss : 0.008576723677799061 acc : 1.0, testing loss : 0.04818605039988732 acc : 0.98\n",
      "epoch 34500 training loss : 0.008470092207046443 acc : 1.0, testing loss : 0.01459559703051019 acc : 1.0\n"
     ]
    },
    {
     "data": {
      "image/png": "[encoded data removed]",
      "text/plain": [
       "<Figure size 720x360 with 2 Axes>"
      ]
     },
     "metadata": {
      "needs_background": "light"
     },
     "output_type": "display_data"
    },
    {
     "data": {
      "image/png": "[encoded data removed]",
      "text/plain": [
       "<Figure size 432x288 with 1 Axes>"
      ]
     },
     "metadata": {
      "needs_background": "light"
     },
     "output_type": "display_data"
    },
    {
     "data": {
      "image/png": "[encoded data removed]",
      "text/plain": [
       "<Figure size 360x360 with 1 Axes>"
      ]
     },
     "metadata": {
      "needs_background": "light"
     },
     "output_type": "display_data"
    }
   ],
   "source": [
    "# Linear training\n",
    "iter = 35000\n",
    "seed = 10\n",
    "x_train_linear, y_train_linear = generate_linear(100, seed)\n",
    "parameters_linear, costs_linear, accs_linear, test_costs_linear, test_accs_linear = model(x_train_linear, y_train_linear, 10, 10, iter=iter, lr=0.01, linear=True)\n",
    "*_, y_pred_linear = forward(x_train_linear, parameters_linear)\n",
    "# print(y_pred_linear)\n",
    "show_result(x_train_linear, y_train_linear, y_pred_linear)\n",
    "plot_loss(iter, 500, costs_linear, test_costs_linear)\n",
    "plot_acc(iter, 500, accs_linear, test_accs_linear)"
   ]
  },
  {
   "cell_type": "code",
   "execution_count": null,
   "metadata": {
    "colab": {
     "base_uri": "https://localhost:8080/",
     "height": 1000
    },
    "id": "6ERtWbyioc1P",
    "outputId": "01f84808-025a-431a-a833-84233b3b7fc9"
   },
   "outputs": [],
   "source": [
    "# XOR training\n",
    "iter = 150000\n",
    "seed = 10\n",
    "x_train_xor, y_train_xor = generate_XOR_easy(10)\n",
    "parameters_xor, costs_xor, accs_xor, test_costs_xor, test_accs_xor = model(x_train_xor, y_train_xor, 10, 10, iter=iter, lr=0.01, xor=True)\n",
    "*_, y_pred_xor = forward(x_train_xor, parameters_xor)\n",
    "# print(y_pred_linear)\n",
    "show_result(x_train_xor, y_train_xor, y_pred_xor)\n",
    "plot_loss(iter, 5000, costs_xor, test_costs_xor)\n",
    "plot_acc(iter, 5000, accs_xor, test_accs_xor)"
   ]
  },
  {
   "cell_type": "code",
   "execution_count": null,
   "metadata": {
    "colab": {
     "base_uri": "https://localhost:8080/"
    },
    "id": "5mV4KcY3LEOT",
    "outputId": "754b61d0-6169-4337-8dde-6b3d8f7ef38b"
   },
   "outputs": [],
   "source": [
    "# linear test\n",
    "seed = np.random.randint(low=0, high=10000, size=1)\n",
    "x_test, y_test = generate_linear(1000, seed)\n",
    "*_, y_pred = forward(x_test, parameters_linear)\n",
    "print(\"acc:\", accuracy(x_test, y_test, y_pred))\n",
    "show_result(x_test, y_test, y_pred)"
   ]
  },
  {
   "cell_type": "code",
   "execution_count": null,
   "metadata": {
    "colab": {
     "base_uri": "https://localhost:8080/",
     "height": 419
    },
    "id": "uY6bbh_VKUMc",
    "outputId": "7c93c123-d513-497f-b1cb-1df9bc8d31a2"
   },
   "outputs": [],
   "source": [
    "# xor test\n",
    "x_test, y_test = generate_XOR_easy(100)\n",
    "*_, y_pred = forward(x_test, parameters_xor)\n",
    "print(\"acc:\", accuracy(x_test, y_test, y_pred))\n",
    "show_result(x_test, y_test, y_pred)"
   ]
  },
  {
   "cell_type": "code",
   "execution_count": 17,
   "metadata": {},
   "outputs": [
    {
     "data": {
      "text/plain": [
       "[1.2796583109616086,\n",
       " 0.27328821859394387,\n",
       " 0.14486823017093955,\n",
       " 0.10219183112988008,\n",
       " 0.08092963318472933,\n",
       " 0.06788370494138053,\n",
       " 0.05891065400909044,\n",
       " 0.05228570068476483,\n",
       " 0.047155563255148115,\n",
       " 0.04304603453669067,\n",
       " 0.03967009865517608,\n",
       " 0.036842110167906034,\n",
       " 0.0344354539190782,\n",
       " 0.032360086192703995,\n",
       " 0.03054989711651551,\n",
       " 0.028955186155565166,\n",
       " 0.027537914874104678,\n",
       " 0.026268545542501735,\n",
       " 0.02512384479899687,\n",
       " 0.024085314582864132,\n",
       " 0.02313805243880334,\n",
       " 0.022269915132252675,\n",
       " 0.02147089991610811,\n",
       " 0.020732683129560357,\n",
       " 0.020048273048249937,\n",
       " 0.019411746105537718,\n",
       " 0.01881804433702629,\n",
       " 0.018262818142761247,\n",
       " 0.017742302905748453,\n",
       " 0.01725322116119379,\n",
       " 0.0167927042522047,\n",
       " 0.016358229004508024,\n",
       " 0.015947566096718217,\n",
       " 0.015558737628371077,\n",
       " 0.015189981989111145,\n",
       " 0.014839724574319271,\n",
       " 0.014506553220526045,\n",
       " 0.01418919747994442,\n",
       " 0.013886511039721106,\n",
       " 0.01359745673389676,\n",
       " 0.013321093705904794,\n",
       " 0.013056566364901436,\n",
       " 0.01280309484625363,\n",
       " 0.012559966739491588,\n",
       " 0.01232652988920762,\n",
       " 0.012102186108173823,\n",
       " 0.011886385669201078,\n",
       " 0.011678622464361264,\n",
       " 0.011478429738217248,\n",
       " 0.011285376316478453,\n",
       " 0.011099063263670519,\n",
       " 0.010919120913476741,\n",
       " 0.010745206223780083,\n",
       " 0.010577000415419256,\n",
       " 0.010414206859525718,\n",
       " 0.010256549183229362,\n",
       " 0.010103769567675907,\n",
       " 0.009955627215816241,\n",
       " 0.009811896970417391,\n",
       " 0.009672368065291446,\n",
       " 0.009536842994917789,\n",
       " 0.009405136489499328,\n",
       " 0.009277074584099702,\n",
       " 0.009152493771891009,\n",
       " 0.009031240232737683,\n",
       " 0.00891316912937779,\n",
       " 0.008798143964361838,\n",
       " 0.008686035991693632,\n",
       " 0.008576723677799061,\n",
       " 0.008470092207046443]"
      ]
     },
     "execution_count": 17,
     "metadata": {},
     "output_type": "execute_result"
    }
   ],
   "source": [
    "costs_linear"
   ]
  }
 ],
 "metadata": {
  "colab": {
   "collapsed_sections": [],
   "name": "Lab1.ipynb",
   "provenance": []
  },
  "kernelspec": {
   "display_name": "Python 3",
   "language": "python",
   "name": "python3"
  },
  "language_info": {
   "codemirror_mode": {
    "name": "ipython",
    "version": 3
   },
   "file_extension": ".py",
   "mimetype": "text/x-python",
   "name": "python",
   "nbconvert_exporter": "python",
   "pygments_lexer": "ipython3",
   "version": "3.7.6"
  }
 },
 "nbformat": 4,
 "nbformat_minor": 1
}
