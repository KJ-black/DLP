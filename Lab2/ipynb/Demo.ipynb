{
 "cells": [
  {
   "cell_type": "code",
   "execution_count": 3,
   "metadata": {},
   "outputs": [
    {
     "name": "stdout",
     "output_type": "stream",
     "text": [
      "Using cuda device\n"
     ]
    }
   ],
   "source": [
    "from EEGNet import *\n",
    "from DeepConvNet import *\n",
    "from dataloader import *\n",
    "\n",
    "device = 'cuda' if torch.cuda.is_available() else 'cpu'\n",
    "print('Using {} device'.format(device))"
   ]
  },
  {
   "cell_type": "code",
   "execution_count": 4,
   "metadata": {},
   "outputs": [
    {
     "name": "stdout",
     "output_type": "stream",
     "text": [
      "(1080, 1, 2, 750) (1080,) (1080, 1, 2, 750) (1080,)\n"
     ]
    }
   ],
   "source": [
    "x_train, y_train, x_test, y_test = read_bci_data()\n",
    "\n",
    "x_train = torch.from_numpy(x_train).float().to(device)\n",
    "y_train = torch.from_numpy(y_train).type(torch.LongTensor).to(device)\n",
    "\n",
    "x_test = torch.from_numpy(x_test).float().to(device)\n",
    "y_test = torch.from_numpy(y_test).type(torch.LongTensor).to(device) # data type is long"
   ]
  },
  {
   "cell_type": "code",
   "execution_count": 32,
   "metadata": {},
   "outputs": [],
   "source": [
    "def test_model(model_name, EEGNet=False, DeepConvNet=False, relu=False, elu=False, lrelu=False):\n",
    "    if EEGNet:\n",
    "        if relu:\n",
    "            model = EEGNet_relu().to(device)\n",
    "        elif elu:\n",
    "            model = EEGNet_elu().to(device)\n",
    "        elif lrelu:\n",
    "            model = EEGNet_lrelu().to(device)\n",
    "        \n",
    "    elif DeepConvNet:\n",
    "        if relu:\n",
    "            model = DeepConvNet_relu().to(device)\n",
    "        elif elu:\n",
    "            model = DeepConvNet_elu().to(device)\n",
    "        elif lrelu:\n",
    "            model = DeepConvNet_lrelu().to(device)\n",
    "            \n",
    "    model_load = torch.load(model_name, map_location=device)\n",
    "    model_load.eval()\n",
    "\n",
    "    \n",
    "    test_loss, correct = 0, 0\n",
    "    pred = model_load(x_test)\n",
    "#     test_loss += loss_fn(pred, y_test).item()\n",
    "    correct += (pred.argmax(1) == y_test).type(torch.float).sum().item()\n",
    "\n",
    "    correct /= len(x_test)\n",
    "\n",
    "    # print(f\"Test Error: \\n Accuracy: {(100*correct):>0.1f}%, Avg loss: {test_loss:>8f} \\n\")\n",
    "    # print(model_load)\n",
    "    # summary(model_load, (1, 2, 750))\n",
    "    return correct*100"
   ]
  },
  {
   "cell_type": "code",
   "execution_count": 40,
   "metadata": {},
   "outputs": [],
   "source": [
    "eegnet_relu = test_model(\"EEGNet_model_relu.pt\",EEGNet=True, relu=True)\n",
    "eegnet_lrelu = test_model(\"EEGNet_model_lrelu.pt\",EEGNet=True, lrelu=True)\n",
    "eegnet_elu = test_model(\"EEGNet_model_elu.pt\",EEGNet=True, elu=True)\n",
    "deepconvnet_relu = test_model(\"DeepConvNet_model_relu.pt\",DeepConvNet=True, relu=True)\n",
    "deepconvnet_lrelu = test_model(\"DeepConvNet_model_lrelu.pt\",DeepConvNet=True, lrelu=True)\n",
    "deepconvnet_elu = test_model(\"DeepConvNet_model_elu.pt\",DeepConvNet=True, elu=True)"
   ]
  },
  {
   "cell_type": "code",
   "execution_count": 41,
   "metadata": {},
   "outputs": [
    {
     "name": "stdout",
     "output_type": "stream",
     "text": [
      "                          ReLU     Leaky ReLU            ELU\n",
      "         EEGNet      89.074074      88.240741      82.685185\n",
      "    DeepConvNet      83.703704      83.425926      82.129630\n"
     ]
    }
   ],
   "source": [
    "print(\"{:>15}{:>15}{:>15}{:>15}\".format(\"\", \"ReLU\", \"Leaky ReLU\", \"ELU\"))\n",
    "print(\"{:>15}{:>15.6f}{:>15.6f}{:>15.6f}\".format(\"EEGNet\", eegnet_relu, eegnet_lrelu, eegnet_elu))\n",
    "print(\"{:>15}{:>15.6f}{:>15.6f}{:>15.6f}\".format(\"DeepConvNet\", deepconvnet_relu, deepconvnet_lrelu, deepconvnet_elu))"
   ]
  },
  {
   "cell_type": "code",
   "execution_count": null,
   "metadata": {},
   "outputs": [],
   "source": []
  }
 ],
 "metadata": {
  "kernelspec": {
   "display_name": "Python 3",
   "language": "python",
   "name": "python3"
  },
  "language_info": {
   "codemirror_mode": {
    "name": "ipython",
    "version": 3
   },
   "file_extension": ".py",
   "mimetype": "text/x-python",
   "name": "python",
   "nbconvert_exporter": "python",
   "pygments_lexer": "ipython3",
   "version": "3.7.6"
  }
 },
 "nbformat": 4,
 "nbformat_minor": 4
}
